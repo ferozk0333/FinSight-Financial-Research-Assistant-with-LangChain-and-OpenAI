{
 "cells": [
  {
   "cell_type": "markdown",
   "id": "3da5ab2f",
   "metadata": {},
   "source": [
    "## Exploring LangChain - Part III\n",
    "\n",
    "The purpose of this notebook is to explore fundamentals of LangChain.\n",
    "\n",
    "Key topics covered include: UnstructuredURLLoader, FAISS and RetrievalQAWithSourcesChain\n",
    "\n",
    "**NOTE: This is just a practice notebook that acts as a precursor to the main project**"
   ]
  },
  {
   "cell_type": "code",
   "execution_count": 39,
   "id": "467453e3",
   "metadata": {},
   "outputs": [],
   "source": [
    "import os\n",
    "import streamlit as st\n",
    "import pickle\n",
    "import time\n",
    "import langchain\n",
    "from langchain_openai import OpenAI,OpenAIEmbeddings\n",
    "from langchain.chains import RetrievalQAWithSourcesChain\n",
    "from langchain.chains.qa_with_sources.loading import load_qa_with_sources_chain\n",
    "from langchain.text_splitter import RecursiveCharacterTextSplitter\n",
    "from langchain.document_loaders import UnstructuredURLLoader\n",
    "\n",
    "from langchain.vectorstores import FAISS"
   ]
  },
  {
   "cell_type": "code",
   "execution_count": null,
   "id": "dcbce8f5",
   "metadata": {},
   "outputs": [],
   "source": [
    "key = \"i have removed my key. Enter your key\""
   ]
  },
  {
   "cell_type": "code",
   "execution_count": 12,
   "id": "07ea7caa",
   "metadata": {},
   "outputs": [],
   "source": [
    "#Initialize LLM with required params\n",
    "\n",
    "llm = OpenAI(temperature = 0.7, api_key=key, max_tokens=500)"
   ]
  },
  {
   "cell_type": "code",
   "execution_count": 15,
   "id": "8c5c1050",
   "metadata": {},
   "outputs": [],
   "source": [
    "loader = UnstructuredURLLoader(urls=[\n",
    "    \"https://www.ft.com/content/95745636-2d21-46aa-b0f1-6bda1c0fdd0b?accessToken=zwAAAYblEFF3kdOVdFY2LSFGqtOw8WvaHA_dCwE.MEYCIQCKqVGoyEh2jPvo574Ns5jiUzEVBHMrg2m8wfbjaLwupwIhANpYFrgjSfID76yCJIJPJEhzWtetNi5MsOMiYl_gyjaH&segmentId=8bab5fbd-4508-93c4-7ded-a9e1428c7053\",\n",
    "    \"https://www.ft.com/content/632411eb-c3fa-4351-a3b6-b0e30bdc0ef7?accessToken=zwAAAYWwEkESkc9jJBHrw_pDUdOjtrDjC9wO9wE.MEQCIC7-tLEPkOYVG427tYIVBtANt60iz-FWXCfBDHwEb0G0AiB5JouSRl1fivzejChmdq5TnvVdNmiibHtVbJUCviVHxA&segmentId=501d7750-774f-dc19-66bb-320ebfb582d1\",\n",
    "   \n",
    "])\n",
    "\n",
    "data = loader.load()"
   ]
  },
  {
   "cell_type": "code",
   "execution_count": 31,
   "id": "2cf48ea3",
   "metadata": {},
   "outputs": [
    {
     "data": {
      "text/plain": [
       "'Accessibility helpSkip to navigationSkip to contentSkip to footer\\n\\nSign In\\n\\nSubscribe\\n\\nOpen side navigation menuOpen search bar\\n\\nSubscribeSign In\\n\\nMenuSearch\\n\\nHome\\n\\nWorld\\n\\nUS\\n\\nCompanies\\n\\nTech\\n\\nMarkets\\n\\nClimate\\n\\nOpinion\\n\\nLex\\n\\nWork & Careers\\n\\nLife & Arts\\n\\nHTSI\\n\\nFinancial Times\\n\\nSubscribeSign In\\n\\nFT Financial Literacy and Inclusion Campaign\\n\\nCurrently reading:\\n\\nPersonal inflation calculator: what is your inflation rate?\\n\\nPeru makes teachers comfortable about money before teaching the kids\\n\\nBanks must play fair as mortgage rates rise\\n\\nWhen trading crypto becomes an addiction\\n\\nMyBnk calls for 30 hours a year of financial education in UK schools\\n\\n‘I’m 22 and I earn more than my parents’\\n\\nCharity warns of UK maths gender gap\\n\\nSee all 112 stories\\n\\nPersonal Finance\\n\\nManage your delivery channels here\\n\\nPersonal inflation calculator: what is your inflation rate?\\n\\nAs the cost of living continues to rise, find out how much inflation could affect your personal finances\\n\\nPersonal inflation calculator: what is your inflation rate? on x (opens in a new window)\\n\\nPersonal inflation calculator: what is your inflation rate? on facebook (opens in a new window)\\n\\nPersonal inflation calculator: what is your inflation rate? on linkedin (opens in a new window)\\n\\nPersonal inflation calculator: what is your inflation rate? on whatsapp (opens in a new window)\\n\\nPersonal inflation calculator: what is your inflation rate? on x (opens in a new window)\\n\\nPersonal inflation calculator: what is your inflation rate? on facebook (opens in a new window)\\n\\nPersonal inflation calculator: what is your inflation rate? on linkedin (opens in a new window)\\n\\nPersonal inflation calculator: what is your inflation rate? on whatsapp (opens in a new window)\\n\\nFT Visual and Data Journalism team in partnership with Nikkei\\n\\nNovember 15 2023\\n\\nJump to comments section\\n\\nUnlock the Editor’s Digest for free\\n\\nRoula Khalaf, Editor of the FT, selects her favourite stories in this weekly newsletter.\\n\\nLATEST CHANGES\\n\\nThis page is regularly updated with the latest consumer prices data for each country\\n\\nJanuary 17: UK December data added\\n\\nJanuary 17: US December data added\\n\\nJanuary 17: Japan November data added\\n\\nInflation affects us all, but the rate at which we experience it will depend on our unique spending habits. Use the calculator below to estimate your personal inflation rate.\\n\\nPlease note:\\n\\nThe personal inflation calculator operates entirely within your browser and FT does not receive or store any data you enter in it. For more details of how we process personal data, please see the Financial Times Privacy Policy.\\n\\nPersonal inflation rates are not directly comparable across different countries.\\n\\nYou can input spending for either yourself individually, or for your household, but you should not input a mix of the two.\\n\\nYour personal inflation trend shows the inflation rate of your personal basket in previous months. Unlike national inflation rates, this assumes there have been no changes in your personal basket over this time.\\n\\nThe personal inflation rates calculated with this tool are described as estimates, because the tool uses price changes that have been calculated based on national average prices. It will therefore not necessarily reflect how prices have changed for the specific goods and services that you buy. For example, the calculator will not take into account if your housing costs have increased considerably more than the national average.\\n\\nWhy estimate your personal inflation rate?\\n\\nFor the past 30 years, inflation has been relatively stable across advanced economies, including the UK and US. In others it has even been deflationary, such as in Japan.\\n\\nThis has been turned on its head in 2022, with the shockwaves of a global pandemic, supply-chain disruptions and the war in Ukraine all contributing to a rapid rise in the costs of fuel, food and a broad range of goods. So much so, that major national economies have reached their first double-digit inflation rates since the 1980s.\\n\\nThese inflation rates — most often measured by the consumer price index, or CPI — are calculated based on a total “basket” of goods and services bought by all consumers in a national economy. They do not, however, necessarily represent the impact that inflation has on you.\\n\\nFT FLIC\\n\\nDonate to the Financial Literacy & Inclusion Campaign here\\n\\nFor example, the latest UK national basket assumes that 9.8 per cent of household budgets are spent on personal transport, such as owning and using a car. While this may be representative of the UK as a whole, it may not be at all representative for you as an individual if, for example, you don’t own a car, or the amount you use it greatly differs from the national average.\\n\\nThis is where a personal inflation calculator can be useful. By taking data on national price changes, it allows you to estimate your experience of inflation, according to the constraints, priorities and preferences that shape your personal spending patterns.\\n\\nSources and methodology\\n\\nSOURCES\\n\\nThis calculator currently includes data for the UK, US and Japan using the following sources:\\n\\nUK Office for National Statistics\\n\\nUS Bureau for Labour Statistics\\n\\nStatistics Bureau of Japan\\n\\nMETHODOLOGY\\n\\nWhich measures of inflation does the calculator use?\\n\\nThere are a few variations on the CPI. We have used the following measures for each country:\\n\\nUK: CPIH, which is the CPI plus imputed rental costs for homeowners\\n\\nUS: CPI-U (not seasonally adjusted), which measures price changes for all urban consumers (about 93 per cent of the total US population) and includes imputed rental costs for homeowners\\n\\nJapan: CPI, which is the CPI plus imputed rental costs for homeowners\\n\\nShould I enter irregular purchases, such as flights or appliances?\\n\\nWe recommend using the inflation calculator for just your regular monthly spending, since the inflation that you experience for one-off purchases will depend on when you make the purchase. This approach is best for understanding your personal inflation trend, which is the rate of inflation you have experienced for this same monthly basket in previous months. This approach is less comparable with the national inflation rate, however, as it excludes irregular purchases.\\n\\nYou may, however, choose to use the calculator to find out your personal rate of inflation in the following alternative ways:\\n\\nLast month’s actual spending, including any irregular purchases. With this approach you can enter all of your actual spending on each category, including any irregular purchases if you paid for these last month. This approach is best for understanding the impact that inflation is currently having on your personal finances. Your personal inflation trend is the rate of inflation you would have experienced for making exactly the same purchases as you did last month in previous months.\\n\\nThe monthly average values of all your spending. With this approach you can include both your regular monthly spending and an average “cost per month of use” for any irregular purchases. This approach is best for comparing your personal inflation rate with the national inflation rate, but it does not necessarily reflect the inflation you will have experienced when making an irregular purchase.\\n\\nHow should I enter my housing costs if I am a homeowner?\\n\\nFor the purposes of this calculator, you can enter how much you spend on mortgage payments and home insurance in “Rent/mortgage” and how much you spend on repairs and home improvements in “Homeware and maintenance”. Taken together, these act as a proxy for owner occupiers’ housing costs.\\n\\nThe way in which inflation rates are measured for owner occupiers is a little complicated, since the purchase of a property is considered both an investment and a service. As a result, it is sometimes handled differently in consumer price indices.\\n\\nWe have chosen CPI measures for this calculator that take into account the service costs of home ownership for homeowners through a method known as “rental equivalence”. This uses the rent that an owner would have to pay for the property they live in as a proxy for the housing services it provides.\\n\\nAre all items of spending included in consumer price indices?\\n\\nNo, spending on the following products are generally considered to be outside the scope of consumer price indices: investments; cash gifts, including donations and tips; gambling; charges for credit; interest payments on loans; and taxes not associated with consumer goods and services.\\n\\nDoes the inflation calculator take into account variations in prices for different items?\\n\\nNo, this calculator does not reflect:\\n\\nExactly what type of product you buy. For example, the inflation rates for items do not distinguish between the level of inflation on luxury or basic versions of an item.\\n\\nWhere in your country you buy a product. For example, the inflation of the cost of housing is based on a national average, rather than price changes in your area.\\n\\nHow are national inflation rates calculated?\\n\\nWhile there is some variation between countries, typically the following steps are taken to calculate national inflation rates:\\n\\nEach month, price collectors record prices for the same set of products and from a large sample of shops around the country and online.\\n\\nPrice changes for specific products at specific shops are aggregated into an overall price change for each type of item and indexed to represent the relative price change for that type of item over time.\\n\\nItems are then weighted to ensure they reflect their relative importance in the overall shopping basket. Weights are typically based on mean household expenditure and are updated periodically (every one to two years) to reflect changes in consumer behaviour.\\n\\nThe overall consumer price index is calculated through a weighted average of the price changes.\\n\\nHow is my personal inflation rate estimated?\\n\\nYour personal inflation rate is calculated in a similar way to the national inflation rate, but has been necessarily simplified as follows:\\n\\nFirst, the calculator collects and calculates the latest and historic 12-month price indices data for each spending category from the relevant national statistics authority in the country you have selected.\\n\\nThe calculator then defines the weight that it should apply to each category’s price inflation based on the spending inputs you provide.\\n\\nNext, the calculator mimics the calculation carried out by the national statistics authority to produce an overall personal inflation rate for every month since January 2021 up to the latest month that we have data for. In doing so, the calculator assumes that the share of your spending on each category stays the same each month.\\n\\nPlease note that the personal inflation rate figure we produce may include a rounding error, as we are using published figures that have been rounded by the national statistics authority.\\n\\nData and analysis by Ella Hollowood, Oliver Hawkins, Kentaro Takeda and Aiko Munakata.\\n\\nDevelopment, design and graphics by Bob Haslett and Ændra Rininsland.\\n\\nCopyright The Financial Times Limited 2024. All rights reserved.\\n\\nReuse this content (opens in new window) CommentsJump to comments section\\n\\nPromoted Content\\n\\nExplore the series\\n\\nREAD MOREFT Financial Literacy and Inclusion Campaign\\n\\nPeru makes teachers comfortable about money before teaching the kids\\n\\nCurrently reading:\\n\\nPersonal inflation calculator: what is your inflation rate?\\n\\nPeru makes teachers comfortable about money before teaching the kids\\n\\nBanks must play fair as mortgage rates rise\\n\\nWhen trading crypto becomes an addiction\\n\\nMyBnk calls for 30 hours a year of financial education in UK schools\\n\\n‘I’m 22 and I earn more than my parents’\\n\\nCharity warns of UK maths gender gap\\n\\nSee all 112 stories\\n\\nFollow the topics in this article\\n\\nGlobal inflation\\n\\nJapanese economy\\n\\nPersonal Finance\\n\\nUK inflation\\n\\nUS inflation\\n\\nComments\\n\\nUseful links\\n\\nMarkets data delayed by at least 15 minutes. © THE FINANCIAL TIMES LTD 2024. FT and ‘Financial Times’ are trademarks of The Financial Times Ltd. The Financial Times and its journalism are subject to a self-regulation regime under the FT Editorial Code of Practice.\\n\\nSubscribe for full access'"
      ]
     },
     "execution_count": 31,
     "metadata": {},
     "output_type": "execute_result"
    }
   ],
   "source": [
    "data[0].page_content"
   ]
  },
  {
   "cell_type": "code",
   "execution_count": 34,
   "id": "a83177f2",
   "metadata": {},
   "outputs": [],
   "source": [
    "text_splitter = RecursiveCharacterTextSplitter(separators=[\"\\n\",\".\",\" \"],\n",
    "                                              chunk_size = 500,\n",
    "                                              chunk_overlap = 100)\n",
    "\n",
    "docs = text_splitter.split_documents(data)\n"
   ]
  },
  {
   "cell_type": "code",
   "execution_count": 35,
   "id": "ae5456e1",
   "metadata": {},
   "outputs": [
    {
     "data": {
      "text/plain": [
       "77"
      ]
     },
     "execution_count": 35,
     "metadata": {},
     "output_type": "execute_result"
    }
   ],
   "source": [
    "#77 chunks created\n",
    "len(docs)"
   ]
  },
  {
   "cell_type": "code",
   "execution_count": 41,
   "id": "79a80a36",
   "metadata": {},
   "outputs": [],
   "source": [
    "#creating an object of embeddings\n",
    "embeddings = OpenAIEmbeddings(api_key=key)\n",
    "\n",
    "#from documents method in FAISS class accepts two params - documents, and embeddings object\n",
    "#we get vectorized chunks indices which we store locally (DB in real life)\n",
    "vectorindex_openai = FAISS.from_documents(docs, embeddings)"
   ]
  },
  {
   "cell_type": "code",
   "execution_count": 62,
   "id": "a436df2a",
   "metadata": {},
   "outputs": [],
   "source": [
    "# Save the FAISS index to a file\n",
    "file_path = \"vector_index.faiss\"\n",
    "vectorindex_openai.save_local(file_path)\n"
   ]
  },
  {
   "cell_type": "code",
   "execution_count": 63,
   "id": "3af4ae2e",
   "metadata": {},
   "outputs": [],
   "source": [
    "# Load the FAISS index\n",
    "vectorIndex = FAISS.load_local(file_path, embeddings,\n",
    "                              allow_dangerous_deserialization=True)"
   ]
  },
  {
   "cell_type": "markdown",
   "id": "2481c7e4",
   "metadata": {},
   "source": [
    "The error message indicates that the FAISS.load_local method uses a pickle file for loading metadata, and the library has implemented a safeguard to prevent deserialization due to potential security risks.\n",
    "\n",
    "To proceed, you need to explicitly allow dangerous deserialization by setting the allow_dangerous_deserialization parameter to True. This is safe if you're working with a file you created and trust its source.\n",
    "\n",
    "Now, my vector index is loaded into a memory and has knowledge of the above articles."
   ]
  },
  {
   "cell_type": "markdown",
   "id": "e5318cb8",
   "metadata": {},
   "source": [
    "### RetrievalQAWithSourcesChain\n",
    "The code creates a **Retrieval-Based Question-Answering Chain with Sources** using a pre-trained language model (LLM) and a retriever.\n",
    "\n",
    "- **`llm`**: The language model (e.g., OpenAI GPT) that generates answers based on the context retrieved.\n",
    "- **`retriever`**: The retriever fetches relevant chunks of information from the FAISS vector index (`vectorIndex`) for answering questions.\n",
    "\n",
    "#### Key Functionality:\n",
    "- The chain uses the retriever to fetch context from the vector database.\n",
    "- The LLM combines the retrieved information to generate an answer.\n",
    "- Includes source references for transparency in the output.\n"
   ]
  },
  {
   "cell_type": "code",
   "execution_count": 68,
   "id": "ef3f5a2d",
   "metadata": {},
   "outputs": [
    {
     "name": "stdout",
     "output_type": "stream",
     "text": [
      "verbose=False combine_documents_chain=MapReduceDocumentsChain(verbose=False, llm_chain=LLMChain(verbose=False, prompt=PromptTemplate(input_variables=['context', 'question'], input_types={}, partial_variables={}, template='Use the following portion of a long document to see if any of the text is relevant to answer the question. \\nReturn any relevant text verbatim.\\n{context}\\nQuestion: {question}\\nRelevant text, if any:'), llm=OpenAI(client=<openai.resources.completions.Completions object at 0x0000025981132290>, async_client=<openai.resources.completions.AsyncCompletions object at 0x0000025980E17FD0>, max_tokens=500, model_kwargs={}, openai_api_key=SecretStr('**********'), logit_bias={}), output_parser=StrOutputParser(), llm_kwargs={}), reduce_documents_chain=ReduceDocumentsChain(verbose=False, combine_documents_chain=StuffDocumentsChain(verbose=False, llm_chain=LLMChain(verbose=False, prompt=PromptTemplate(input_variables=['question', 'summaries'], input_types={}, partial_variables={}, template='Given the following extracted parts of a long document and a question, create a final answer with references (\"SOURCES\"). \\nIf you don\\'t know the answer, just say that you don\\'t know. Don\\'t try to make up an answer.\\nALWAYS return a \"SOURCES\" part in your answer.\\n\\nQUESTION: Which state/country\\'s law governs the interpretation of the contract?\\n=========\\nContent: This Agreement is governed by English law and the parties submit to the exclusive jurisdiction of the English courts in  relation to any dispute (contractual or non-contractual) concerning this Agreement save that either party may apply to any court for an  injunction or other relief to protect its Intellectual Property Rights.\\nSource: 28-pl\\nContent: No Waiver. Failure or delay in exercising any right or remedy under this Agreement shall not constitute a waiver of such (or any other)  right or remedy.\\n\\n11.7 Severability. The invalidity, illegality or unenforceability of any term (or part of a term) of this Agreement shall not affect the continuation  in force of the remainder of the term (if any) and this Agreement.\\n\\n11.8 No Agency. Except as expressly stated otherwise, nothing in this Agreement shall create an agency, partnership or joint venture of any  kind between the parties.\\n\\n11.9 No Third-Party Beneficiaries.\\nSource: 30-pl\\nContent: (b) if Google believes, in good faith, that the Distributor has violated or caused Google to violate any Anti-Bribery Laws (as  defined in Clause 8.5) or that such a violation is reasonably likely to occur,\\nSource: 4-pl\\n=========\\nFINAL ANSWER: This Agreement is governed by English law.\\nSOURCES: 28-pl\\n\\nQUESTION: What did the president say about Michael Jackson?\\n=========\\nContent: Madam Speaker, Madam Vice President, our First Lady and Second Gentleman. Members of Congress and the Cabinet. Justices of the Supreme Court. My fellow Americans.  \\n\\nLast year COVID-19 kept us apart. This year we are finally together again. \\n\\nTonight, we meet as Democrats Republicans and Independents. But most importantly as Americans. \\n\\nWith a duty to one another to the American people to the Constitution. \\n\\nAnd with an unwavering resolve that freedom will always triumph over tyranny. \\n\\nSix days ago, Russia’s Vladimir Putin sought to shake the foundations of the free world thinking he could make it bend to his menacing ways. But he badly miscalculated. \\n\\nHe thought he could roll into Ukraine and the world would roll over. Instead he met a wall of strength he never imagined. \\n\\nHe met the Ukrainian people. \\n\\nFrom President Zelenskyy to every Ukrainian, their fearlessness, their courage, their determination, inspires the world. \\n\\nGroups of citizens blocking tanks with their bodies. Everyone from students to retirees teachers turned soldiers defending their homeland.\\nSource: 0-pl\\nContent: And we won’t stop. \\n\\nWe have lost so much to COVID-19. Time with one another. And worst of all, so much loss of life. \\n\\nLet’s use this moment to reset. Let’s stop looking at COVID-19 as a partisan dividing line and see it for what it is: A God-awful disease.  \\n\\nLet’s stop seeing each other as enemies, and start seeing each other for who we really are: Fellow Americans.  \\n\\nWe can’t change how divided we’ve been. But we can change how we move forward—on COVID-19 and other issues we must face together. \\n\\nI recently visited the New York City Police Department days after the funerals of Officer Wilbert Mora and his partner, Officer Jason Rivera. \\n\\nThey were responding to a 9-1-1 call when a man shot and killed them with a stolen gun. \\n\\nOfficer Mora was 27 years old. \\n\\nOfficer Rivera was 22. \\n\\nBoth Dominican Americans who’d grown up on the same streets they later chose to patrol as police officers. \\n\\nI spoke with their families and told them that we are forever in debt for their sacrifice, and we will carry on their mission to restore the trust and safety every community deserves.\\nSource: 24-pl\\nContent: And a proud Ukrainian people, who have known 30 years  of independence, have repeatedly shown that they will not tolerate anyone who tries to take their country backwards.  \\n\\nTo all Americans, I will be honest with you, as I’ve always promised. A Russian dictator, invading a foreign country, has costs around the world. \\n\\nAnd I’m taking robust action to make sure the pain of our sanctions  is targeted at Russia’s economy. And I will use every tool at our disposal to protect American businesses and consumers. \\n\\nTonight, I can announce that the United States has worked with 30 other countries to release 60 Million barrels of oil from reserves around the world.  \\n\\nAmerica will lead that effort, releasing 30 Million barrels from our own Strategic Petroleum Reserve. And we stand ready to do more if necessary, unified with our allies.  \\n\\nThese steps will help blunt gas prices here at home. And I know the news about what’s happening can seem alarming. \\n\\nBut I want you to know that we are going to be okay.\\nSource: 5-pl\\nContent: More support for patients and families. \\n\\nTo get there, I call on Congress to fund ARPA-H, the Advanced Research Projects Agency for Health. \\n\\nIt’s based on DARPA—the Defense Department project that led to the Internet, GPS, and so much more.  \\n\\nARPA-H will have a singular purpose—to drive breakthroughs in cancer, Alzheimer’s, diabetes, and more. \\n\\nA unity agenda for the nation. \\n\\nWe can do this. \\n\\nMy fellow Americans—tonight , we have gathered in a sacred space—the citadel of our democracy. \\n\\nIn this Capitol, generation after generation, Americans have debated great questions amid great strife, and have done great things. \\n\\nWe have fought for freedom, expanded liberty, defeated totalitarianism and terror. \\n\\nAnd built the strongest, freest, and most prosperous nation the world has ever known. \\n\\nNow is the hour. \\n\\nOur moment of responsibility. \\n\\nOur test of resolve and conscience, of history itself. \\n\\nIt is in this moment that our character is formed. Our purpose is found. Our future is forged. \\n\\nWell I know this nation.\\nSource: 34-pl\\n=========\\nFINAL ANSWER: The president did not mention Michael Jackson.\\nSOURCES:\\n\\nQUESTION: {question}\\n=========\\n{summaries}\\n=========\\nFINAL ANSWER:'), llm=OpenAI(client=<openai.resources.completions.Completions object at 0x0000025981132290>, async_client=<openai.resources.completions.AsyncCompletions object at 0x0000025980E17FD0>, max_tokens=500, model_kwargs={}, openai_api_key=SecretStr('**********'), logit_bias={}), output_parser=StrOutputParser(), llm_kwargs={}), document_prompt=PromptTemplate(input_variables=['page_content', 'source'], input_types={}, partial_variables={}, template='Content: {page_content}\\nSource: {source}'), document_variable_name='summaries')), document_variable_name='context') retriever=VectorStoreRetriever(tags=['FAISS', 'OpenAIEmbeddings'], vectorstore=<langchain_community.vectorstores.faiss.FAISS object at 0x00000259C2E10350>, search_kwargs={})\n"
     ]
    }
   ],
   "source": [
    "#retriever is how you plan to retrieve vector database\n",
    "#This is Map Reduced Method\n",
    "chain = RetrievalQAWithSourcesChain.from_llm(llm = llm, retriever = vectorIndex.as_retriever())\n",
    "print(chain)"
   ]
  },
  {
   "cell_type": "markdown",
   "id": "9332f1ed",
   "metadata": {},
   "source": [
    "### Running a QA Chain with Debugging Enabled\n",
    "This code demonstrates how to query a **Retrieval-Based QA Chain** while enabling debugging to inspect underlying processes.\n",
    "\n",
    "#### Steps:\n",
    "1. **Set the Query**: The question `\"What is CPI?\"` is passed as input.\n",
    "2. **Enable Debugging**: `langchain.debug = True` enables detailed logs to observe how the chain processes the query.\n",
    "3. **Invoke the Chain**: The `.invoke()` method is used to run the QA chain and return only the outputs (deprecates the older `__call__` method).\n",
    "\n"
   ]
  },
  {
   "cell_type": "code",
   "execution_count": 71,
   "id": "30d6de62",
   "metadata": {},
   "outputs": [
    {
     "name": "stdout",
     "output_type": "stream",
     "text": [
      "\u001b[32;1m\u001b[1;3m[chain/start]\u001b[0m \u001b[1m[chain:RetrievalQAWithSourcesChain] Entering Chain run with input:\n",
      "\u001b[0m{\n",
      "  \"question\": \"What is CPI?\"\n",
      "}\n",
      "\u001b[32;1m\u001b[1;3m[chain/start]\u001b[0m \u001b[1m[chain:RetrievalQAWithSourcesChain > chain:MapReduceDocumentsChain] Entering Chain run with input:\n",
      "\u001b[0m[inputs]\n",
      "\u001b[32;1m\u001b[1;3m[chain/start]\u001b[0m \u001b[1m[chain:RetrievalQAWithSourcesChain > chain:MapReduceDocumentsChain > chain:LLMChain] Entering Chain run with input:\n",
      "\u001b[0m{\n",
      "  \"input_list\": [\n",
      "    {\n",
      "      \"context\": \"These inflation rates — most often measured by the consumer price index, or CPI — are calculated based on a total “basket” of goods and services bought by all consumers in a national economy. They do not, however, necessarily represent the impact that inflation has on you.\\n\\nFT FLIC\\n\\nDonate to the Financial Literacy & Inclusion Campaign here\",\n",
      "      \"question\": \"What is CPI?\"\n",
      "    },\n",
      "    {\n",
      "      \"context\": \"We have chosen CPI measures for this calculator that take into account the service costs of home ownership for homeowners through a method known as “rental equivalence”. This uses the rent that an owner would have to pay for the property they live in as a proxy for the housing services it provides.\\n\\nAre all items of spending included in consumer price indices?\",\n",
      "      \"question\": \"What is CPI?\"\n",
      "    },\n",
      "    {\n",
      "      \"context\": \"US Bureau for Labour Statistics\\n\\nStatistics Bureau of Japan\\n\\nMETHODOLOGY\\n\\nWhich measures of inflation does the calculator use?\\n\\nThere are a few variations on the CPI. We have used the following measures for each country:\\n\\nUK: CPIH, which is the CPI plus imputed rental costs for homeowners\\n\\nUS: CPI-U (not seasonally adjusted), which measures price changes for all urban consumers (about 93 per cent of the total US population) and includes imputed rental costs for homeowners\",\n",
      "      \"question\": \"What is CPI?\"\n",
      "    },\n",
      "    {\n",
      "      \"context\": \"Japan: CPI, which is the CPI plus imputed rental costs for homeowners\\n\\nShould I enter irregular purchases, such as flights or appliances?\",\n",
      "      \"question\": \"What is CPI?\"\n",
      "    }\n",
      "  ]\n",
      "}\n",
      "\u001b[32;1m\u001b[1;3m[llm/start]\u001b[0m \u001b[1m[chain:RetrievalQAWithSourcesChain > chain:MapReduceDocumentsChain > chain:LLMChain > llm:OpenAI] Entering LLM run with input:\n",
      "\u001b[0m{\n",
      "  \"prompts\": [\n",
      "    \"Use the following portion of a long document to see if any of the text is relevant to answer the question. \\nReturn any relevant text verbatim.\\nThese inflation rates — most often measured by the consumer price index, or CPI — are calculated based on a total “basket” of goods and services bought by all consumers in a national economy. They do not, however, necessarily represent the impact that inflation has on you.\\n\\nFT FLIC\\n\\nDonate to the Financial Literacy & Inclusion Campaign here\\nQuestion: What is CPI?\\nRelevant text, if any:\"\n",
      "  ]\n",
      "}\n",
      "\u001b[32;1m\u001b[1;3m[llm/start]\u001b[0m \u001b[1m[chain:RetrievalQAWithSourcesChain > chain:MapReduceDocumentsChain > chain:LLMChain > llm:OpenAI] Entering LLM run with input:\n",
      "\u001b[0m{\n",
      "  \"prompts\": [\n",
      "    \"Use the following portion of a long document to see if any of the text is relevant to answer the question. \\nReturn any relevant text verbatim.\\nWe have chosen CPI measures for this calculator that take into account the service costs of home ownership for homeowners through a method known as “rental equivalence”. This uses the rent that an owner would have to pay for the property they live in as a proxy for the housing services it provides.\\n\\nAre all items of spending included in consumer price indices?\\nQuestion: What is CPI?\\nRelevant text, if any:\"\n",
      "  ]\n",
      "}\n",
      "\u001b[32;1m\u001b[1;3m[llm/start]\u001b[0m \u001b[1m[chain:RetrievalQAWithSourcesChain > chain:MapReduceDocumentsChain > chain:LLMChain > llm:OpenAI] Entering LLM run with input:\n",
      "\u001b[0m{\n",
      "  \"prompts\": [\n",
      "    \"Use the following portion of a long document to see if any of the text is relevant to answer the question. \\nReturn any relevant text verbatim.\\nUS Bureau for Labour Statistics\\n\\nStatistics Bureau of Japan\\n\\nMETHODOLOGY\\n\\nWhich measures of inflation does the calculator use?\\n\\nThere are a few variations on the CPI. We have used the following measures for each country:\\n\\nUK: CPIH, which is the CPI plus imputed rental costs for homeowners\\n\\nUS: CPI-U (not seasonally adjusted), which measures price changes for all urban consumers (about 93 per cent of the total US population) and includes imputed rental costs for homeowners\\nQuestion: What is CPI?\\nRelevant text, if any:\"\n",
      "  ]\n",
      "}\n",
      "\u001b[32;1m\u001b[1;3m[llm/start]\u001b[0m \u001b[1m[chain:RetrievalQAWithSourcesChain > chain:MapReduceDocumentsChain > chain:LLMChain > llm:OpenAI] Entering LLM run with input:\n",
      "\u001b[0m{\n",
      "  \"prompts\": [\n",
      "    \"Use the following portion of a long document to see if any of the text is relevant to answer the question. \\nReturn any relevant text verbatim.\\nJapan: CPI, which is the CPI plus imputed rental costs for homeowners\\n\\nShould I enter irregular purchases, such as flights or appliances?\\nQuestion: What is CPI?\\nRelevant text, if any:\"\n",
      "  ]\n",
      "}\n",
      "\u001b[36;1m\u001b[1;3m[llm/end]\u001b[0m \u001b[1m[chain:RetrievalQAWithSourcesChain > chain:MapReduceDocumentsChain > chain:LLMChain > llm:OpenAI] [1.45s] Exiting LLM run with output:\n",
      "\u001b[0m{\n",
      "  \"generations\": [\n",
      "    [\n",
      "      {\n",
      "        \"text\": \" \\\"most often measured by the consumer price index, or CPI\\\" \",\n",
      "        \"generation_info\": {\n",
      "          \"finish_reason\": \"stop\",\n",
      "          \"logprobs\": null\n",
      "        },\n",
      "        \"type\": \"Generation\"\n",
      "      }\n",
      "    ]\n",
      "  ],\n",
      "  \"llm_output\": {\n",
      "    \"token_usage\": {\n",
      "      \"completion_tokens\": 97,\n",
      "      \"total_tokens\": 535,\n",
      "      \"prompt_tokens\": 438\n",
      "    },\n",
      "    \"model_name\": \"gpt-3.5-turbo-instruct\"\n",
      "  },\n",
      "  \"run\": null,\n",
      "  \"type\": \"LLMResult\"\n",
      "}\n",
      "\u001b[36;1m\u001b[1;3m[llm/end]\u001b[0m \u001b[1m[chain:RetrievalQAWithSourcesChain > chain:MapReduceDocumentsChain > chain:LLMChain > llm:OpenAI] [1.45s] Exiting LLM run with output:\n",
      "\u001b[0m{\n",
      "  \"generations\": [\n",
      "    [\n",
      "      {\n",
      "        \"text\": \"\\nWe have chosen CPI measures for this calculator that take into account the service costs of home ownership for homeowners through a method known as “rental equivalence”. This uses the rent that an owner would have to pay for the property they live in as a proxy for the housing services it provides.\",\n",
      "        \"generation_info\": {\n",
      "          \"finish_reason\": \"stop\",\n",
      "          \"logprobs\": null\n",
      "        },\n",
      "        \"type\": \"Generation\"\n",
      "      }\n",
      "    ]\n",
      "  ],\n",
      "  \"llm_output\": {\n",
      "    \"token_usage\": {},\n",
      "    \"model_name\": \"gpt-3.5-turbo-instruct\"\n",
      "  },\n",
      "  \"run\": null,\n",
      "  \"type\": \"LLMResult\"\n",
      "}\n",
      "\u001b[36;1m\u001b[1;3m[llm/end]\u001b[0m \u001b[1m[chain:RetrievalQAWithSourcesChain > chain:MapReduceDocumentsChain > chain:LLMChain > llm:OpenAI] [1.45s] Exiting LLM run with output:\n",
      "\u001b[0m{\n",
      "  \"generations\": [\n",
      "    [\n",
      "      {\n",
      "        \"text\": \" \\\"There are a few variations on the CPI.\\\"\",\n",
      "        \"generation_info\": {\n",
      "          \"finish_reason\": \"stop\",\n",
      "          \"logprobs\": null\n",
      "        },\n",
      "        \"type\": \"Generation\"\n",
      "      }\n",
      "    ]\n",
      "  ],\n",
      "  \"llm_output\": {\n",
      "    \"token_usage\": {},\n",
      "    \"model_name\": \"gpt-3.5-turbo-instruct\"\n",
      "  },\n",
      "  \"run\": null,\n",
      "  \"type\": \"LLMResult\"\n",
      "}\n",
      "\u001b[36;1m\u001b[1;3m[llm/end]\u001b[0m \u001b[1m[chain:RetrievalQAWithSourcesChain > chain:MapReduceDocumentsChain > chain:LLMChain > llm:OpenAI] [1.44s] Exiting LLM run with output:\n",
      "\u001b[0m{\n",
      "  \"generations\": [\n",
      "    [\n",
      "      {\n",
      "        \"text\": \" Japan: CPI, which is the CPI plus imputed rental costs for homeowners\",\n",
      "        \"generation_info\": {\n",
      "          \"finish_reason\": \"stop\",\n",
      "          \"logprobs\": null\n",
      "        },\n",
      "        \"type\": \"Generation\"\n",
      "      }\n",
      "    ]\n",
      "  ],\n",
      "  \"llm_output\": {\n",
      "    \"token_usage\": {},\n",
      "    \"model_name\": \"gpt-3.5-turbo-instruct\"\n",
      "  },\n",
      "  \"run\": null,\n",
      "  \"type\": \"LLMResult\"\n",
      "}\n",
      "\u001b[36;1m\u001b[1;3m[chain/end]\u001b[0m \u001b[1m[chain:RetrievalQAWithSourcesChain > chain:MapReduceDocumentsChain > chain:LLMChain] [1.45s] Exiting Chain run with output:\n",
      "\u001b[0m{\n",
      "  \"outputs\": [\n",
      "    {\n",
      "      \"text\": \" \\\"most often measured by the consumer price index, or CPI\\\" \"\n",
      "    },\n",
      "    {\n",
      "      \"text\": \"\\nWe have chosen CPI measures for this calculator that take into account the service costs of home ownership for homeowners through a method known as “rental equivalence”. This uses the rent that an owner would have to pay for the property they live in as a proxy for the housing services it provides.\"\n",
      "    },\n",
      "    {\n",
      "      \"text\": \" \\\"There are a few variations on the CPI.\\\"\"\n",
      "    },\n",
      "    {\n",
      "      \"text\": \" Japan: CPI, which is the CPI plus imputed rental costs for homeowners\"\n",
      "    }\n",
      "  ]\n",
      "}\n",
      "\u001b[32;1m\u001b[1;3m[chain/start]\u001b[0m \u001b[1m[chain:RetrievalQAWithSourcesChain > chain:MapReduceDocumentsChain > chain:LLMChain] Entering Chain run with input:\n",
      "\u001b[0m{\n",
      "  \"question\": \"What is CPI?\",\n",
      "  \"summaries\": \"Content:  \\\"most often measured by the consumer price index, or CPI\\\" \\nSource: https://www.ft.com/content/95745636-2d21-46aa-b0f1-6bda1c0fdd0b?accessToken=zwAAAYblEFF3kdOVdFY2LSFGqtOw8WvaHA_dCwE.MEYCIQCKqVGoyEh2jPvo574Ns5jiUzEVBHMrg2m8wfbjaLwupwIhANpYFrgjSfID76yCJIJPJEhzWtetNi5MsOMiYl_gyjaH&segmentId=8bab5fbd-4508-93c4-7ded-a9e1428c7053\\n\\nContent: \\nWe have chosen CPI measures for this calculator that take into account the service costs of home ownership for homeowners through a method known as “rental equivalence”. This uses the rent that an owner would have to pay for the property they live in as a proxy for the housing services it provides.\\nSource: https://www.ft.com/content/95745636-2d21-46aa-b0f1-6bda1c0fdd0b?accessToken=zwAAAYblEFF3kdOVdFY2LSFGqtOw8WvaHA_dCwE.MEYCIQCKqVGoyEh2jPvo574Ns5jiUzEVBHMrg2m8wfbjaLwupwIhANpYFrgjSfID76yCJIJPJEhzWtetNi5MsOMiYl_gyjaH&segmentId=8bab5fbd-4508-93c4-7ded-a9e1428c7053\\n\\nContent:  \\\"There are a few variations on the CPI.\\\"\\nSource: https://www.ft.com/content/95745636-2d21-46aa-b0f1-6bda1c0fdd0b?accessToken=zwAAAYblEFF3kdOVdFY2LSFGqtOw8WvaHA_dCwE.MEYCIQCKqVGoyEh2jPvo574Ns5jiUzEVBHMrg2m8wfbjaLwupwIhANpYFrgjSfID76yCJIJPJEhzWtetNi5MsOMiYl_gyjaH&segmentId=8bab5fbd-4508-93c4-7ded-a9e1428c7053\\n\\nContent:  Japan: CPI, which is the CPI plus imputed rental costs for homeowners\\nSource: https://www.ft.com/content/95745636-2d21-46aa-b0f1-6bda1c0fdd0b?accessToken=zwAAAYblEFF3kdOVdFY2LSFGqtOw8WvaHA_dCwE.MEYCIQCKqVGoyEh2jPvo574Ns5jiUzEVBHMrg2m8wfbjaLwupwIhANpYFrgjSfID76yCJIJPJEhzWtetNi5MsOMiYl_gyjaH&segmentId=8bab5fbd-4508-93c4-7ded-a9e1428c7053\"\n",
      "}\n",
      "\u001b[32;1m\u001b[1;3m[llm/start]\u001b[0m \u001b[1m[chain:RetrievalQAWithSourcesChain > chain:MapReduceDocumentsChain > chain:LLMChain > llm:OpenAI] Entering LLM run with input:\n",
      "\u001b[0m{\n",
      "  \"prompts\": [\n",
      "    \"Given the following extracted parts of a long document and a question, create a final answer with references (\\\"SOURCES\\\"). \\nIf you don't know the answer, just say that you don't know. Don't try to make up an answer.\\nALWAYS return a \\\"SOURCES\\\" part in your answer.\\n\\nQUESTION: Which state/country's law governs the interpretation of the contract?\\n=========\\nContent: This Agreement is governed by English law and the parties submit to the exclusive jurisdiction of the English courts in  relation to any dispute (contractual or non-contractual) concerning this Agreement save that either party may apply to any court for an  injunction or other relief to protect its Intellectual Property Rights.\\nSource: 28-pl\\nContent: No Waiver. Failure or delay in exercising any right or remedy under this Agreement shall not constitute a waiver of such (or any other)  right or remedy.\\n\\n11.7 Severability. The invalidity, illegality or unenforceability of any term (or part of a term) of this Agreement shall not affect the continuation  in force of the remainder of the term (if any) and this Agreement.\\n\\n11.8 No Agency. Except as expressly stated otherwise, nothing in this Agreement shall create an agency, partnership or joint venture of any  kind between the parties.\\n\\n11.9 No Third-Party Beneficiaries.\\nSource: 30-pl\\nContent: (b) if Google believes, in good faith, that the Distributor has violated or caused Google to violate any Anti-Bribery Laws (as  defined in Clause 8.5) or that such a violation is reasonably likely to occur,\\nSource: 4-pl\\n=========\\nFINAL ANSWER: This Agreement is governed by English law.\\nSOURCES: 28-pl\\n\\nQUESTION: What did the president say about Michael Jackson?\\n=========\\nContent: Madam Speaker, Madam Vice President, our First Lady and Second Gentleman. Members of Congress and the Cabinet. Justices of the Supreme Court. My fellow Americans.  \\n\\nLast year COVID-19 kept us apart. This year we are finally together again. \\n\\nTonight, we meet as Democrats Republicans and Independents. But most importantly as Americans. \\n\\nWith a duty to one another to the American people to the Constitution. \\n\\nAnd with an unwavering resolve that freedom will always triumph over tyranny. \\n\\nSix days ago, Russia’s Vladimir Putin sought to shake the foundations of the free world thinking he could make it bend to his menacing ways. But he badly miscalculated. \\n\\nHe thought he could roll into Ukraine and the world would roll over. Instead he met a wall of strength he never imagined. \\n\\nHe met the Ukrainian people. \\n\\nFrom President Zelenskyy to every Ukrainian, their fearlessness, their courage, their determination, inspires the world. \\n\\nGroups of citizens blocking tanks with their bodies. Everyone from students to retirees teachers turned soldiers defending their homeland.\\nSource: 0-pl\\nContent: And we won’t stop. \\n\\nWe have lost so much to COVID-19. Time with one another. And worst of all, so much loss of life. \\n\\nLet’s use this moment to reset. Let’s stop looking at COVID-19 as a partisan dividing line and see it for what it is: A God-awful disease.  \\n\\nLet’s stop seeing each other as enemies, and start seeing each other for who we really are: Fellow Americans.  \\n\\nWe can’t change how divided we’ve been. But we can change how we move forward—on COVID-19 and other issues we must face together. \\n\\nI recently visited the New York City Police Department days after the funerals of Officer Wilbert Mora and his partner, Officer Jason Rivera. \\n\\nThey were responding to a 9-1-1 call when a man shot and killed them with a stolen gun. \\n\\nOfficer Mora was 27 years old. \\n\\nOfficer Rivera was 22. \\n\\nBoth Dominican Americans who’d grown up on the same streets they later chose to patrol as police officers. \\n\\nI spoke with their families and told them that we are forever in debt for their sacrifice, and we will carry on their mission to restore the trust and safety every community deserves.\\nSource: 24-pl\\nContent: And a proud Ukrainian people, who have known 30 years  of independence, have repeatedly shown that they will not tolerate anyone who tries to take their country backwards.  \\n\\nTo all Americans, I will be honest with you, as I’ve always promised. A Russian dictator, invading a foreign country, has costs around the world. \\n\\nAnd I’m taking robust action to make sure the pain of our sanctions  is targeted at Russia’s economy. And I will use every tool at our disposal to protect American businesses and consumers. \\n\\nTonight, I can announce that the United States has worked with 30 other countries to release 60 Million barrels of oil from reserves around the world.  \\n\\nAmerica will lead that effort, releasing 30 Million barrels from our own Strategic Petroleum Reserve. And we stand ready to do more if necessary, unified with our allies.  \\n\\nThese steps will help blunt gas prices here at home. And I know the news about what’s happening can seem alarming. \\n\\nBut I want you to know that we are going to be okay.\\nSource: 5-pl\\nContent: More support for patients and families. \\n\\nTo get there, I call on Congress to fund ARPA-H, the Advanced Research Projects Agency for Health. \\n\\nIt’s based on DARPA—the Defense Department project that led to the Internet, GPS, and so much more.  \\n\\nARPA-H will have a singular purpose—to drive breakthroughs in cancer, Alzheimer’s, diabetes, and more. \\n\\nA unity agenda for the nation. \\n\\nWe can do this. \\n\\nMy fellow Americans—tonight , we have gathered in a sacred space—the citadel of our democracy. \\n\\nIn this Capitol, generation after generation, Americans have debated great questions amid great strife, and have done great things. \\n\\nWe have fought for freedom, expanded liberty, defeated totalitarianism and terror. \\n\\nAnd built the strongest, freest, and most prosperous nation the world has ever known. \\n\\nNow is the hour. \\n\\nOur moment of responsibility. \\n\\nOur test of resolve and conscience, of history itself. \\n\\nIt is in this moment that our character is formed. Our purpose is found. Our future is forged. \\n\\nWell I know this nation.\\nSource: 34-pl\\n=========\\nFINAL ANSWER: The president did not mention Michael Jackson.\\nSOURCES:\\n\\nQUESTION: What is CPI?\\n=========\\nContent:  \\\"most often measured by the consumer price index, or CPI\\\" \\nSource: https://www.ft.com/content/95745636-2d21-46aa-b0f1-6bda1c0fdd0b?accessToken=zwAAAYblEFF3kdOVdFY2LSFGqtOw8WvaHA_dCwE.MEYCIQCKqVGoyEh2jPvo574Ns5jiUzEVBHMrg2m8wfbjaLwupwIhANpYFrgjSfID76yCJIJPJEhzWtetNi5MsOMiYl_gyjaH&segmentId=8bab5fbd-4508-93c4-7ded-a9e1428c7053\\n\\nContent: \\nWe have chosen CPI measures for this calculator that take into account the service costs of home ownership for homeowners through a method known as “rental equivalence”. This uses the rent that an owner would have to pay for the property they live in as a proxy for the housing services it provides.\\nSource: https://www.ft.com/content/95745636-2d21-46aa-b0f1-6bda1c0fdd0b?accessToken=zwAAAYblEFF3kdOVdFY2LSFGqtOw8WvaHA_dCwE.MEYCIQCKqVGoyEh2jPvo574Ns5jiUzEVBHMrg2m8wfbjaLwupwIhANpYFrgjSfID76yCJIJPJEhzWtetNi5MsOMiYl_gyjaH&segmentId=8bab5fbd-4508-93c4-7ded-a9e1428c7053\\n\\nContent:  \\\"There are a few variations on the CPI.\\\"\\nSource: https://www.ft.com/content/95745636-2d21-46aa-b0f1-6bda1c0fdd0b?accessToken=zwAAAYblEFF3kdOVdFY2LSFGqtOw8WvaHA_dCwE.MEYCIQCKqVGoyEh2jPvo574Ns5jiUzEVBHMrg2m8wfbjaLwupwIhANpYFrgjSfID76yCJIJPJEhzWtetNi5MsOMiYl_gyjaH&segmentId=8bab5fbd-4508-93c4-7ded-a9e1428c7053\\n\\nContent:  Japan: CPI, which is the CPI plus imputed rental costs for homeowners\\nSource: https://www.ft.com/content/95745636-2d21-46aa-b0f1-6bda1c0fdd0b?accessToken=zwAAAYblEFF3kdOVdFY2LSFGqtOw8WvaHA_dCwE.MEYCIQCKqVGoyEh2jPvo574Ns5jiUzEVBHMrg2m8wfbjaLwupwIhANpYFrgjSfID76yCJIJPJEhzWtetNi5MsOMiYl_gyjaH&segmentId=8bab5fbd-4508-93c4-7ded-a9e1428c7053\\n=========\\nFINAL ANSWER:\"\n",
      "  ]\n",
      "}\n",
      "\u001b[36;1m\u001b[1;3m[llm/end]\u001b[0m \u001b[1m[chain:RetrievalQAWithSourcesChain > chain:MapReduceDocumentsChain > chain:LLMChain > llm:OpenAI] [2.55s] Exiting LLM run with output:\n",
      "\u001b[0m{\n",
      "  \"generations\": [\n",
      "    [\n",
      "      {\n",
      "        \"text\": \" CPI stands for Consumer Price Index.\\nSOURCES: https://www.ft.com/content/95745636-2d21-46aa-b0f1-6bda1c0fdd0b?accessToken=zwAAAYblEFF3kdOVdFY2LSFGqtOw8WvaHA_dCwE.MEYCIQCKqVGoyEh2jPvo574Ns5jiUzEVBHMrg2m8wfbjaLwupwIhANpYFrgjSfID76yCJIJPJEhzWtetNi5MsOMiYl_gyjaH&segmentId=8bab5fbd-4508-93c4-7ded-a9e1428c7053\",\n",
      "        \"generation_info\": {\n",
      "          \"finish_reason\": \"stop\",\n",
      "          \"logprobs\": null\n",
      "        },\n",
      "        \"type\": \"Generation\"\n",
      "      }\n",
      "    ]\n",
      "  ],\n",
      "  \"llm_output\": {\n",
      "    \"token_usage\": {\n",
      "      \"completion_tokens\": 162,\n",
      "      \"total_tokens\": 2236,\n",
      "      \"prompt_tokens\": 2074\n",
      "    },\n",
      "    \"model_name\": \"gpt-3.5-turbo-instruct\"\n",
      "  },\n",
      "  \"run\": null,\n",
      "  \"type\": \"LLMResult\"\n",
      "}\n",
      "\u001b[36;1m\u001b[1;3m[chain/end]\u001b[0m \u001b[1m[chain:RetrievalQAWithSourcesChain > chain:MapReduceDocumentsChain > chain:LLMChain] [2.55s] Exiting Chain run with output:\n",
      "\u001b[0m{\n",
      "  \"text\": \" CPI stands for Consumer Price Index.\\nSOURCES: https://www.ft.com/content/95745636-2d21-46aa-b0f1-6bda1c0fdd0b?accessToken=zwAAAYblEFF3kdOVdFY2LSFGqtOw8WvaHA_dCwE.MEYCIQCKqVGoyEh2jPvo574Ns5jiUzEVBHMrg2m8wfbjaLwupwIhANpYFrgjSfID76yCJIJPJEhzWtetNi5MsOMiYl_gyjaH&segmentId=8bab5fbd-4508-93c4-7ded-a9e1428c7053\"\n",
      "}\n",
      "\u001b[36;1m\u001b[1;3m[chain/end]\u001b[0m \u001b[1m[chain:RetrievalQAWithSourcesChain > chain:MapReduceDocumentsChain] [4.00s] Exiting Chain run with output:\n",
      "\u001b[0m{\n",
      "  \"output_text\": \" CPI stands for Consumer Price Index.\\nSOURCES: https://www.ft.com/content/95745636-2d21-46aa-b0f1-6bda1c0fdd0b?accessToken=zwAAAYblEFF3kdOVdFY2LSFGqtOw8WvaHA_dCwE.MEYCIQCKqVGoyEh2jPvo574Ns5jiUzEVBHMrg2m8wfbjaLwupwIhANpYFrgjSfID76yCJIJPJEhzWtetNi5MsOMiYl_gyjaH&segmentId=8bab5fbd-4508-93c4-7ded-a9e1428c7053\"\n",
      "}\n",
      "\u001b[36;1m\u001b[1;3m[chain/end]\u001b[0m \u001b[1m[chain:RetrievalQAWithSourcesChain] [4.47s] Exiting Chain run with output:\n",
      "\u001b[0m{\n",
      "  \"answer\": \" CPI stands for Consumer Price Index.\\n\",\n",
      "  \"sources\": \"https://www.ft.com/content/95745636-2d21-46aa-b0f1-6bda1c0fdd0b?accessToken=zwAAAYblEFF3kdOVdFY2LSFGqtOw8WvaHA_dCwE.MEYCIQCKqVGoyEh2jPvo574Ns5jiUzEVBHMrg2m8wfbjaLwupwIhANpYFrgjSfID76yCJIJPJEhzWtetNi5MsOMiYl_gyjaH&segmentId=8bab5fbd-4508-93c4-7ded-a9e1428c7053\"\n",
      "}\n"
     ]
    },
    {
     "data": {
      "text/plain": [
       "{'answer': ' CPI stands for Consumer Price Index.\\n',\n",
       " 'sources': 'https://www.ft.com/content/95745636-2d21-46aa-b0f1-6bda1c0fdd0b?accessToken=zwAAAYblEFF3kdOVdFY2LSFGqtOw8WvaHA_dCwE.MEYCIQCKqVGoyEh2jPvo574Ns5jiUzEVBHMrg2m8wfbjaLwupwIhANpYFrgjSfID76yCJIJPJEhzWtetNi5MsOMiYl_gyjaH&segmentId=8bab5fbd-4508-93c4-7ded-a9e1428c7053'}"
      ]
     },
     "execution_count": 71,
     "metadata": {},
     "output_type": "execute_result"
    }
   ],
   "source": [
    "query = \"What is CPI?\"\n",
    "\n",
    "langchain.debug = True   #to see what's going underneath\n",
    "\n",
    "# Run the chain and return the outputs\n",
    "chain.invoke({\"question\": query}, return_only_outputs=True)\n"
   ]
  },
  {
   "cell_type": "code",
   "execution_count": null,
   "id": "68d44506",
   "metadata": {},
   "outputs": [],
   "source": []
  },
  {
   "cell_type": "code",
   "execution_count": null,
   "id": "1c6f479d",
   "metadata": {},
   "outputs": [],
   "source": []
  },
  {
   "cell_type": "code",
   "execution_count": null,
   "id": "db336c11",
   "metadata": {},
   "outputs": [],
   "source": []
  },
  {
   "cell_type": "code",
   "execution_count": null,
   "id": "6b5ee8af",
   "metadata": {},
   "outputs": [],
   "source": []
  },
  {
   "cell_type": "code",
   "execution_count": null,
   "id": "cc3c522c",
   "metadata": {},
   "outputs": [],
   "source": []
  },
  {
   "cell_type": "code",
   "execution_count": null,
   "id": "fc9b13f7",
   "metadata": {},
   "outputs": [],
   "source": []
  },
  {
   "cell_type": "code",
   "execution_count": null,
   "id": "8d54a58f",
   "metadata": {},
   "outputs": [],
   "source": []
  }
 ],
 "metadata": {
  "kernelspec": {
   "display_name": "Python 3 (ipykernel)",
   "language": "python",
   "name": "python3"
  },
  "language_info": {
   "codemirror_mode": {
    "name": "ipython",
    "version": 3
   },
   "file_extension": ".py",
   "mimetype": "text/x-python",
   "name": "python",
   "nbconvert_exporter": "python",
   "pygments_lexer": "ipython3",
   "version": "3.11.3"
  }
 },
 "nbformat": 4,
 "nbformat_minor": 5
}
