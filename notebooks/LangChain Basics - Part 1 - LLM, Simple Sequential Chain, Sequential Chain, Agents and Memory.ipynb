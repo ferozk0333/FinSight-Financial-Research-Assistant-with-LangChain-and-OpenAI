{
 "cells": [
  {
   "cell_type": "markdown",
   "id": "8ee5c389",
   "metadata": {},
   "source": [
    "## Exploring Langchain - Part I\n",
    "\n",
    "This practice takes me through the basics of langchain framework, deepening my understanding of how it acts as a sandwich between user created applications and LLMs.\n",
    "\n",
    "Topics Covered: OpenAI LLM, Simple Sequential Chain, Sequential Chain, Agents and Memory.\n",
    "\n",
    "**NOTE: This is just a practice notebook that acts as a precursor to the main project**"
   ]
  },
  {
   "cell_type": "code",
   "execution_count": 1,
   "id": "4c9a936c",
   "metadata": {},
   "outputs": [],
   "source": [
    "import pandas as pd"
   ]
  },
  {
   "cell_type": "code",
   "execution_count": 2,
   "id": "d4c59c05",
   "metadata": {},
   "outputs": [],
   "source": [
    "openapi_key = str(pd.read_csv(\"key.txt\"))\n",
    "key = \"\""
   ]
  },
  {
   "cell_type": "code",
   "execution_count": 3,
   "id": "47169f7d",
   "metadata": {},
   "outputs": [],
   "source": [
    "from langchain_openai import OpenAI\n"
   ]
  },
  {
   "cell_type": "code",
   "execution_count": 5,
   "id": "5182f224",
   "metadata": {},
   "outputs": [],
   "source": [
    "#temperature refers to model creativity with 0 being safe and 1 being most creative. Being creative may lead to factually incorrect results.\n",
    "\n",
    "llm = OpenAI(temperature = 0.7, api_key=key) "
   ]
  },
  {
   "cell_type": "code",
   "execution_count": 45,
   "id": "bdd315b0",
   "metadata": {},
   "outputs": [
    {
     "data": {
      "text/plain": [
       "'\\n\"Bella Cucina\" '"
      ]
     },
     "execution_count": 45,
     "metadata": {},
     "output_type": "execute_result"
    }
   ],
   "source": [
    "name = llm(\"I want to open a restaurant for Italian food. Suggest a fancy name for it.\")\n",
    "name"
   ]
  },
  {
   "cell_type": "code",
   "execution_count": 16,
   "id": "e9df5731",
   "metadata": {},
   "outputs": [
    {
     "data": {
      "text/plain": [
       "'I want to open a restaurant for Indian food. Suggest a fancy name for it.'"
      ]
     },
     "execution_count": 16,
     "metadata": {},
     "output_type": "execute_result"
    }
   ],
   "source": [
    "from langchain.prompts import PromptTemplate\n",
    "\n",
    "prompt_template_name = PromptTemplate(input_variables = ['cuisine'],\n",
    "                                     template = \"I want to open a restaurant for {cuisine} food. Suggest a fancy name for it.\")\n",
    "\n",
    "prompt_template_name.format(cuisine = \"Indian\")"
   ]
  },
  {
   "cell_type": "code",
   "execution_count": 17,
   "id": "03f4bee1",
   "metadata": {},
   "outputs": [
    {
     "name": "stderr",
     "output_type": "stream",
     "text": [
      "C:\\Users\\DELL\\AppData\\Local\\Temp\\ipykernel_22856\\3975690982.py:3: LangChainDeprecationWarning: The class `LLMChain` was deprecated in LangChain 0.1.17 and will be removed in 1.0. Use :meth:`~RunnableSequence, e.g., `prompt | llm`` instead.\n",
      "  chain = LLMChain(llm = llm, prompt=prompt_template_name)\n",
      "C:\\Users\\DELL\\AppData\\Local\\Temp\\ipykernel_22856\\3975690982.py:4: LangChainDeprecationWarning: The method `Chain.__call__` was deprecated in langchain 0.1.0 and will be removed in 1.0. Use :meth:`~invoke` instead.\n",
      "  chain(\"Indian\")\n"
     ]
    },
    {
     "data": {
      "text/plain": [
       "{'cuisine': 'Indian', 'text': '\\n\\n\"Spice Palace\"'}"
      ]
     },
     "execution_count": 17,
     "metadata": {},
     "output_type": "execute_result"
    }
   ],
   "source": [
    "from langchain.chains import LLMChain\n",
    "\n",
    "chain = LLMChain(llm = llm, prompt=prompt_template_name)\n",
    "chain(\"Indian\")"
   ]
  },
  {
   "cell_type": "markdown",
   "id": "3ffb284c",
   "metadata": {},
   "source": [
    "### Simple Sequential Chain\n",
    "\n",
    "- One input and one output\n",
    "- Intermediate steps where output of the first step becomes input of the second step.\n",
    "\n",
    "\n"
   ]
  },
  {
   "cell_type": "code",
   "execution_count": 55,
   "id": "78023dfb",
   "metadata": {},
   "outputs": [],
   "source": [
    "llm = OpenAI(temperature=0.6, api_key=key)"
   ]
  },
  {
   "cell_type": "code",
   "execution_count": 14,
   "id": "41570ccd",
   "metadata": {},
   "outputs": [
    {
     "ename": "NameError",
     "evalue": "name 'PromptTemplate' is not defined",
     "output_type": "error",
     "traceback": [
      "\u001b[1;31m---------------------------------------------------------------------------\u001b[0m",
      "\u001b[1;31mNameError\u001b[0m                                 Traceback (most recent call last)",
      "Cell \u001b[1;32mIn[14], line 2\u001b[0m\n\u001b[0;32m      1\u001b[0m \u001b[38;5;66;03m# First chain that asks for restaurant name\u001b[39;00m\n\u001b[1;32m----> 2\u001b[0m prompt_template_name \u001b[38;5;241m=\u001b[39m PromptTemplate(\n\u001b[0;32m      3\u001b[0m     input_variables\u001b[38;5;241m=\u001b[39m[\u001b[38;5;124m'\u001b[39m\u001b[38;5;124mcuisine\u001b[39m\u001b[38;5;124m'\u001b[39m],\n\u001b[0;32m      4\u001b[0m     template\u001b[38;5;241m=\u001b[39m\u001b[38;5;124m\"\u001b[39m\u001b[38;5;124mI want to open a restaurant for \u001b[39m\u001b[38;5;132;01m{cuisine}\u001b[39;00m\u001b[38;5;124m food. Suggest a fancy name for this\u001b[39m\u001b[38;5;124m\"\u001b[39m\n\u001b[0;32m      5\u001b[0m )\n\u001b[0;32m      7\u001b[0m name_chain \u001b[38;5;241m=\u001b[39m LLMChain(llm \u001b[38;5;241m=\u001b[39m llm, prompt\u001b[38;5;241m=\u001b[39mprompt_template_name)\n\u001b[0;32m      9\u001b[0m \u001b[38;5;66;03m# Second chain that uses the restaurant name to generate food items\u001b[39;00m\n",
      "\u001b[1;31mNameError\u001b[0m: name 'PromptTemplate' is not defined"
     ]
    }
   ],
   "source": [
    "# First chain that asks for restaurant name\n",
    "prompt_template_name = PromptTemplate(\n",
    "    input_variables=['cuisine'],\n",
    "    template=\"I want to open a restaurant for {cuisine} food. Suggest a fancy name for this\"\n",
    ")\n",
    "\n",
    "name_chain = LLMChain(llm = llm, prompt=prompt_template_name)\n",
    "\n",
    "# Second chain that uses the restaurant name to generate food items\n",
    "prompt_template_name = PromptTemplate(\n",
    "    input_variables=['resturant_name'],\n",
    "    template=\"I want menu items for {restaurant_name}. Return me as a csv list\"\n",
    ")\n",
    "\n",
    "food_items_chain = LLMChain(llm = llm, prompt=prompt_template_name)"
   ]
  },
  {
   "cell_type": "code",
   "execution_count": 60,
   "id": "bc89a67e",
   "metadata": {},
   "outputs": [
    {
     "name": "stderr",
     "output_type": "stream",
     "text": [
      "C:\\Users\\DELL\\AppData\\Local\\Temp\\ipykernel_23856\\1510711124.py:4: LangChainDeprecationWarning: The method `Chain.run` was deprecated in langchain 0.1.0 and will be removed in 1.0. Use :meth:`~invoke` instead.\n",
      "  response = chain.run(\"Indian\")\n"
     ]
    },
    {
     "name": "stdout",
     "output_type": "stream",
     "text": [
      "\n",
      "\n",
      "1. Samosa\n",
      "2. Chicken Tikka Masala\n",
      "3. Lamb Vindaloo\n",
      "4. Vegetable Biryani\n",
      "5. Tandoori Chicken\n",
      "6. Garlic Naan\n",
      "7. Chana Masala\n",
      "8. Palak Paneer\n",
      "9. Butter Chicken\n",
      "10. Mango Lassi\n"
     ]
    }
   ],
   "source": [
    "from langchain.chains import SimpleSequentialChain\n",
    "\n",
    "chain = SimpleSequentialChain(chains = [name_chain, food_items_chain])\n",
    "response = chain.run(\"Indian\")\n",
    "print(response)"
   ]
  },
  {
   "cell_type": "markdown",
   "id": "49453e1b",
   "metadata": {},
   "source": [
    "### Sequential Chain\n",
    "If you want to print intermediate steps as well like the restaurant name\n",
    "\n",
    "- multiple inputs and multiple outputs"
   ]
  },
  {
   "cell_type": "code",
   "execution_count": 13,
   "id": "689cfcff",
   "metadata": {},
   "outputs": [
    {
     "name": "stderr",
     "output_type": "stream",
     "text": [
      "C:\\Users\\DELL\\AppData\\Local\\Temp\\ipykernel_22856\\3007395112.py:2: LangChainDeprecationWarning: The class `OpenAI` was deprecated in LangChain 0.0.10 and will be removed in 1.0. An updated version of the class exists in the :class:`~langchain-openai package and should be used instead. To use it run `pip install -U :class:`~langchain-openai` and import as `from :class:`~langchain_openai import OpenAI``.\n",
      "  llm = OpenAI(temperature=0.6, api_key=key)\n"
     ]
    },
    {
     "ename": "NameError",
     "evalue": "name 'PromptTemplate' is not defined",
     "output_type": "error",
     "traceback": [
      "\u001b[1;31m---------------------------------------------------------------------------\u001b[0m",
      "\u001b[1;31mNameError\u001b[0m                                 Traceback (most recent call last)",
      "Cell \u001b[1;32mIn[13], line 4\u001b[0m\n\u001b[0;32m      1\u001b[0m \u001b[38;5;66;03m# First chain that asks for restaurant name\u001b[39;00m\n\u001b[0;32m      2\u001b[0m llm \u001b[38;5;241m=\u001b[39m OpenAI(temperature\u001b[38;5;241m=\u001b[39m\u001b[38;5;241m0.6\u001b[39m, api_key\u001b[38;5;241m=\u001b[39mkey)\n\u001b[1;32m----> 4\u001b[0m prompt_template_name \u001b[38;5;241m=\u001b[39m PromptTemplate(\n\u001b[0;32m      5\u001b[0m     input_variables\u001b[38;5;241m=\u001b[39m[\u001b[38;5;124m'\u001b[39m\u001b[38;5;124mcuisine\u001b[39m\u001b[38;5;124m'\u001b[39m],\n\u001b[0;32m      6\u001b[0m     template\u001b[38;5;241m=\u001b[39m\u001b[38;5;124m\"\u001b[39m\u001b[38;5;124mI want to open a restaurant for \u001b[39m\u001b[38;5;132;01m{cuisine}\u001b[39;00m\u001b[38;5;124m food. Suggest a fancy name for this\u001b[39m\u001b[38;5;124m\"\u001b[39m\n\u001b[0;32m      7\u001b[0m )\n\u001b[0;32m      9\u001b[0m name_chain \u001b[38;5;241m=\u001b[39m LLMChain(llm \u001b[38;5;241m=\u001b[39m llm, prompt\u001b[38;5;241m=\u001b[39mprompt_template_name, output_key\u001b[38;5;241m=\u001b[39m\u001b[38;5;124m\"\u001b[39m\u001b[38;5;124mrestaurant_name\u001b[39m\u001b[38;5;124m\"\u001b[39m)\n\u001b[0;32m     11\u001b[0m \u001b[38;5;66;03m# Second chain that uses the restaurant name to generate food items\u001b[39;00m\n",
      "\u001b[1;31mNameError\u001b[0m: name 'PromptTemplate' is not defined"
     ]
    }
   ],
   "source": [
    "# First chain that asks for restaurant name\n",
    "llm = OpenAI(temperature=0.6, api_key=key)\n",
    "\n",
    "prompt_template_name = PromptTemplate(\n",
    "    input_variables=['cuisine'],\n",
    "    template=\"I want to open a restaurant for {cuisine} food. Suggest a fancy name for this\"\n",
    ")\n",
    "\n",
    "name_chain = LLMChain(llm = llm, prompt=prompt_template_name, output_key=\"restaurant_name\")\n",
    "\n",
    "# Second chain that uses the restaurant name to generate food items\n",
    "llm = OpenAI(temperature=0.6, api_key=key)\n",
    "\n",
    "\n",
    "prompt_template_items = PromptTemplate(\n",
    "    input_variables=['restaurant_name'],\n",
    "    template=\"I want menu items for {restaurant_name}. Return me as a csv list\"\n",
    ")\n",
    "\n",
    "food_items_chain = LLMChain(llm = llm, prompt=prompt_template_items, output_key=\"menu_items\")"
   ]
  },
  {
   "cell_type": "code",
   "execution_count": 77,
   "id": "ddad936e",
   "metadata": {},
   "outputs": [
    {
     "name": "stdout",
     "output_type": "stream",
     "text": [
      "\n",
      "\n",
      "\n",
      "1. Samosa Chaat, $8.99\n",
      "2. Chicken Tikka Masala, $14.99\n",
      "3. Lamb Biryani, $16.99\n",
      "4. Vegetable Korma, $12.99\n",
      "5. Garlic Naan, $3.99\n",
      "6. Mango Lassi, $4.99\n",
      "7. Tandoori Chicken, $15.99\n",
      "8. Palak Paneer, $13.99\n",
      "9. Malai Kofta, $14.99\n",
      "10. Gulab Jamun, $5.99\n"
     ]
    }
   ],
   "source": [
    "from langchain.chains import SequentialChain\n",
    "\n",
    "SequentialChain(\n",
    "    chains = [name_chain,food_items_chain],\n",
    "    input_variables = ['cuisine'],\n",
    "    output_variables = ['restaurant_name', 'menu_items'])\n",
    "\n",
    "print(chain.run('Indian'))"
   ]
  },
  {
   "cell_type": "markdown",
   "id": "01abc030",
   "metadata": {},
   "source": [
    "## Agents"
   ]
  },
  {
   "cell_type": "code",
   "execution_count": 11,
   "id": "d222f813",
   "metadata": {},
   "outputs": [
    {
     "name": "stdout",
     "output_type": "stream",
     "text": [
      "\n",
      "\n",
      "\u001b[1m> Entering new AgentExecutor chain...\u001b[0m\n",
      "\u001b[32;1m\u001b[1;3m I need to use Wikipedia to find information about Elon Musk\n",
      "Action: wikipedia\n",
      "Action Input: \"Elon Musk\"\u001b[0m\n",
      "Observation: \u001b[36;1m\u001b[1;3mPage: Elon Musk\n",
      "Summary: Elon Reeve Musk  (; born June 28, 1971) is a businessman known for his key roles in the space company SpaceX and the automotive company Tesla, Inc. His other involvements include ownership of X Corp., the company that operates the social media platform X (formerly Twitter), and his role in the founding of the Boring Company, xAI, Neuralink, and OpenAI. In November 2024, United States president-elect Donald Trump appointed Musk as the co-chair of the proposed Department of Government Efficiency (DOGE) in the second Trump administration. Musk is the wealthiest individual in the world; as of November 2024, Forbes estimates his net worth to be US$304 billion.\n",
      "Musk was born in Pretoria, South Africa, and briefly attended the University of Pretoria before immigrating to Canada at the age of 18, acquiring citizenship through his Canadian-born mother. Two years later, he matriculated at Queen's University at Kingston in Canada. Musk later transferred to the University of Pennsylvania and received bachelor's degrees in economics and physics. He moved to California in 1995 to attend Stanford University but never enrolled in classes, and with his brother Kimbal co-founded the online city guide software company Zip2. The startup was acquired by Compaq for $307 million in 1999. That same year, Musk co-founded X.com, a direct bank. X.com merged with Confinity in 2000 to form PayPal. In 2002, Musk acquired US citizenship, and that October eBay acquired PayPal for $1.5 billion. Using $100 million of the money he made from the sale of PayPal, Musk founded SpaceX, a spaceflight services company, in 2002. \n",
      "In 2004, Musk was an early investor in electric-vehicle manufacturer Tesla Motors, Inc. (later Tesla, Inc.), providing most of the initial financing and assuming the position of the company's chairman. He later became the product architect and, in 2008, the CEO. In 2006, Musk helped create SolarCity, a solar energy company that was acquired by Tesla in 2016 and became Tesla Energy. In 2013, he proposed a hyperloop high-speed vactrain transportation system. In 2015, he co-founded OpenAI, a nonprofit artificial intelligence research company. The following year Musk co-founded Neuralink, a neurotechnology company developing brain–computer interfaces, and The Boring Company, a tunnel construction company. In 2018 the U.S. Securities and Exchange Commission (SEC) sued Musk, alleging that he had falsely announced that he had secured funding for a private takeover of Tesla. To settle the case Musk stepped down as the chairman of Tesla and paid a $20 million fine. In 2022, he acquired Twitter for $44 billion, merged the company into the newly-created X Corp. and rebranded the service as X the following year. In March 2023, Musk founded xAI, an artificial-intelligence company.\n",
      "Musk's actions and expressed views have made him a polarizing figure. He has been criticized for making unscientific and misleading statements, including COVID-19 misinformation and promoting right-wing conspiracy theories. His ownership of Twitter has been controversial because of the layoffs of large numbers of employees, an increase in hate speech, misinformation and disinformation posts on the website, and changes to website features, including verification. \n",
      "In early 2024, Musk became active in American politics as a vocal and financial supporter of Donald Trump, becoming Trump's second-largest individual donor in October 2024. In November 2024, Trump announced that he had chosen Musk along with Vivek Ramaswamy to co-lead the Department of Government Efficiency (DOGE), a new advisory board which aims to improve government efficiency through measures such as slashing \"excess regulations\" and cutting \"wasteful expenditures\".\n",
      "\n",
      "Page: Acquisition of Twitter by Elon Musk\n",
      "Summary: The business magnate Elon Musk initiated an acquisition of American social media company Twitter, Inc. on April 14, 2022, and concluded it on October 27, 2022. Musk had begun buyi\u001b[0m\n",
      "Thought:\u001b[32;1m\u001b[1;3m I now know the information about Elon Musk's birth and his current age\n",
      "Action: wikipedia\n",
      "Action Input: \"Elon Musk\"\u001b[0m\n",
      "Observation: \u001b[36;1m\u001b[1;3mPage: Elon Musk\n",
      "Summary: Elon Reeve Musk  (; born June 28, 1971) is a businessman known for his key roles in the space company SpaceX and the automotive company Tesla, Inc. His other involvements include ownership of X Corp., the company that operates the social media platform X (formerly Twitter), and his role in the founding of the Boring Company, xAI, Neuralink, and OpenAI. In November 2024, United States president-elect Donald Trump appointed Musk as the co-chair of the proposed Department of Government Efficiency (DOGE) in the second Trump administration. Musk is the wealthiest individual in the world; as of November 2024, Forbes estimates his net worth to be US$304 billion.\n",
      "Musk was born in Pretoria, South Africa, and briefly attended the University of Pretoria before immigrating to Canada at the age of 18, acquiring citizenship through his Canadian-born mother. Two years later, he matriculated at Queen's University at Kingston in Canada. Musk later transferred to the University of Pennsylvania and received bachelor's degrees in economics and physics. He moved to California in 1995 to attend Stanford University but never enrolled in classes, and with his brother Kimbal co-founded the online city guide software company Zip2. The startup was acquired by Compaq for $307 million in 1999. That same year, Musk co-founded X.com, a direct bank. X.com merged with Confinity in 2000 to form PayPal. In 2002, Musk acquired US citizenship, and that October eBay acquired PayPal for $1.5 billion. Using $100 million of the money he made from the sale of PayPal, Musk founded SpaceX, a spaceflight services company, in 2002. \n",
      "In 2004, Musk was an early investor in electric-vehicle manufacturer Tesla Motors, Inc. (later Tesla, Inc.), providing most of the initial financing and assuming the position of the company's chairman. He later became the product architect and, in 2008, the CEO. In 2006, Musk helped create SolarCity, a solar energy company that was acquired by Tesla in 2016 and became Tesla Energy. In 2013, he proposed a hyperloop high-speed vactrain transportation system. In 2015, he co-founded OpenAI, a nonprofit artificial intelligence research company. The following year Musk co-founded Neuralink, a neurotechnology company developing brain–computer interfaces, and The Boring Company, a tunnel construction company. In 2018 the U.S. Securities and Exchange Commission (SEC) sued Musk, alleging that he had falsely announced that he had secured funding for a private takeover of Tesla. To settle the case Musk stepped down as the chairman of Tesla and paid a $20 million fine. In 2022, he acquired Twitter for $44 billion, merged the company into the newly-created X Corp. and rebranded the service as X the following year. In March 2023, Musk founded xAI, an artificial-intelligence company.\n",
      "Musk's actions and expressed views have made him a polarizing figure. He has been criticized for making unscientific and misleading statements, including COVID-19 misinformation and promoting right-wing conspiracy theories. His ownership of Twitter has been controversial because of the layoffs of large numbers of employees, an increase in hate speech, misinformation and disinformation posts on the website, and changes to website features, including verification. \n",
      "In early 2024, Musk became active in American politics as a vocal and financial supporter of Donald Trump, becoming Trump's second-largest individual donor in October 2024. In November 2024, Trump announced that he had chosen Musk along with Vivek Ramaswamy to co-lead the Department of Government Efficiency (DOGE), a new advisory board which aims to improve government efficiency through measures such as slashing \"excess regulations\" and cutting \"wasteful expenditures\".\n",
      "\n",
      "Page: Acquisition of Twitter by Elon Musk\n",
      "Summary: The business magnate Elon Musk initiated an acquisition of American social media company Twitter, Inc. on April 14, 2022, and concluded it on October 27, 2022. Musk had begun buyi\u001b[0m\n",
      "Thought:\u001b[32;1m\u001b[1;3m I now know the final answer\n",
      "Final Answer: Elon Musk was born on June 28, 1971 and is currently 53 years old.\u001b[0m\n",
      "\n",
      "\u001b[1m> Finished chain.\u001b[0m\n"
     ]
    },
    {
     "data": {
      "text/plain": [
       "'Elon Musk was born on June 28, 1971 and is currently 53 years old.'"
      ]
     },
     "execution_count": 11,
     "metadata": {},
     "output_type": "execute_result"
    }
   ],
   "source": [
    "from langchain.agents import AgentType, initialize_agent, load_tools\n",
    "from langchain.llms import OpenAI\n",
    "\n",
    "tools = load_tools(['wikipedia','llm-math'],llm = llm)\n",
    "\n",
    "agent = initialize_agent(\n",
    "    tools,\n",
    "    llm,\n",
    "    agent=AgentType.ZERO_SHOT_REACT_DESCRIPTION,\n",
    "verbose = True)\n",
    "#Thought and reaction - mimics that action\n",
    "\n",
    "agent.run(\"When was Elon born and how old is he?\")"
   ]
  },
  {
   "cell_type": "markdown",
   "id": "69b10e62",
   "metadata": {},
   "source": [
    "## Memory\n"
   ]
  },
  {
   "cell_type": "code",
   "execution_count": 40,
   "id": "f7e54681",
   "metadata": {},
   "outputs": [
    {
     "name": "stdout",
     "output_type": "stream",
     "text": [
      "\n",
      "\n",
      "\"Maharaja's Palace\" \n"
     ]
    }
   ],
   "source": [
    "from langchain.memory import ConversationBufferMemory\n",
    "\n",
    "memory = ConversationBufferMemory()\n",
    "\n",
    "chain = LLMChain(llm = llm , prompt = prompt_template_name, memory=memory)\n",
    "name = chain.run(\"Indian\")\n",
    "print(name)"
   ]
  },
  {
   "cell_type": "code",
   "execution_count": 23,
   "id": "2afd003d",
   "metadata": {},
   "outputs": [],
   "source": [
    "name = chain.run(\"Mexican\")"
   ]
  },
  {
   "cell_type": "code",
   "execution_count": 24,
   "id": "0721b789",
   "metadata": {
    "scrolled": true
   },
   "outputs": [
    {
     "name": "stdout",
     "output_type": "stream",
     "text": [
      "Human: Indian\n",
      "AI: \n",
      "\n",
      "\"Maharaja's Palace\" \n",
      "Human: Mexican\n",
      "AI: \n",
      "\n",
      "\"El Jardín de Sabor\" (The Garden of Flavor)\n"
     ]
    }
   ],
   "source": [
    "print(chain.memory.buffer)"
   ]
  },
  {
   "cell_type": "code",
   "execution_count": 45,
   "id": "fac1f0f7",
   "metadata": {},
   "outputs": [
    {
     "name": "stdout",
     "output_type": "stream",
     "text": [
      "The following is a friendly conversation between a human and an AI. The AI is talkative and provides lots of specific details from its context. If the AI does not know the answer to a question, it truthfully says it does not know.\n",
      "\n",
      "Current conversation:\n",
      "{history}\n",
      "Human: {input}\n",
      "AI:\n"
     ]
    }
   ],
   "source": [
    "#Using window memory to track only the last n conversations\n",
    "\n",
    "from langchain.chains import ConversationChain \n",
    "from langchain.memory import ConversationBufferWindowMemory\n",
    "\n",
    "memory = ConversationBufferWindowMemory(k=3)\n",
    "\n",
    "convo = ConversationChain(llm = OpenAI(temperature=0.7, api_key = key),\n",
    "                        memory = memory)\n",
    "print(convo.prompt.template)"
   ]
  },
  {
   "cell_type": "code",
   "execution_count": 35,
   "id": "363a68bb",
   "metadata": {},
   "outputs": [
    {
     "data": {
      "text/plain": [
       "\" The first cricket world cup was held in 1975 and was won by the West Indies team, captained by Clive Lloyd. The runners-up were Australia, led by Ian Chappell. The tournament was held in England and featured eight teams, with the final being played at Lord's Cricket Ground.\""
      ]
     },
     "execution_count": 35,
     "metadata": {},
     "output_type": "execute_result"
    }
   ],
   "source": [
    "convo.run(\"Who on the first cricket world cup?\")"
   ]
  },
  {
   "cell_type": "code",
   "execution_count": 36,
   "id": "86c6e3e2",
   "metadata": {},
   "outputs": [
    {
     "data": {
      "text/plain": [
       "'  4+7 is equal to 11.'"
      ]
     },
     "execution_count": 36,
     "metadata": {},
     "output_type": "execute_result"
    }
   ],
   "source": [
    "convo.run(\"What is 4+7?\")"
   ]
  },
  {
   "cell_type": "code",
   "execution_count": 37,
   "id": "62b423fd",
   "metadata": {},
   "outputs": [
    {
     "data": {
      "text/plain": [
       "' The first football world cup was held in 1930 and was won by Uruguay, who beat Argentina 4-2 in the final. The tournament was held in Uruguay and featured 13 teams, with the final being played at the Estadio Centenario.'"
      ]
     },
     "execution_count": 37,
     "metadata": {},
     "output_type": "execute_result"
    }
   ],
   "source": [
    "convo.run(\"Who on the first football world cup?\")"
   ]
  },
  {
   "cell_type": "code",
   "execution_count": 38,
   "id": "b48ddcc5",
   "metadata": {},
   "outputs": [
    {
     "data": {
      "text/plain": [
       "' The first hockey world cup was held in 1971 and was won by Pakistan, who beat Spain 1-0 in the final. The tournament was held in Barcelona, Spain and featured 10 teams, with the final being played at the Estadi del FC Barcelona.'"
      ]
     },
     "execution_count": 38,
     "metadata": {},
     "output_type": "execute_result"
    }
   ],
   "source": [
    "convo.run(\"Who on the first hockey world cup?\")"
   ]
  },
  {
   "cell_type": "code",
   "execution_count": 39,
   "id": "1b5608d8",
   "metadata": {},
   "outputs": [
    {
     "name": "stdout",
     "output_type": "stream",
     "text": [
      "Human: What is 4+7?\n",
      "AI:   4+7 is equal to 11.\n",
      "Human: Who on the first football world cup?\n",
      "AI:  The first football world cup was held in 1930 and was won by Uruguay, who beat Argentina 4-2 in the final. The tournament was held in Uruguay and featured 13 teams, with the final being played at the Estadio Centenario.\n",
      "Human: Who on the first hockey world cup?\n",
      "AI:  The first hockey world cup was held in 1971 and was won by Pakistan, who beat Spain 1-0 in the final. The tournament was held in Barcelona, Spain and featured 10 teams, with the final being played at the Estadi del FC Barcelona.\n"
     ]
    }
   ],
   "source": [
    "print(convo.memory.buffer)"
   ]
  },
  {
   "cell_type": "code",
   "execution_count": null,
   "id": "af4d0e6d",
   "metadata": {},
   "outputs": [],
   "source": []
  },
  {
   "cell_type": "code",
   "execution_count": null,
   "id": "f143a063",
   "metadata": {},
   "outputs": [],
   "source": []
  }
 ],
 "metadata": {
  "kernelspec": {
   "display_name": "Python 3 (ipykernel)",
   "language": "python",
   "name": "python3"
  },
  "language_info": {
   "codemirror_mode": {
    "name": "ipython",
    "version": 3
   },
   "file_extension": ".py",
   "mimetype": "text/x-python",
   "name": "python",
   "nbconvert_exporter": "python",
   "pygments_lexer": "ipython3",
   "version": "3.11.3"
  }
 },
 "nbformat": 4,
 "nbformat_minor": 5
}
