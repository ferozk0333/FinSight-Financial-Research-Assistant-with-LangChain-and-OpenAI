{
 "cells": [
  {
   "cell_type": "markdown",
   "id": "b11349bc",
   "metadata": {},
   "source": [
    "## Exploring LangChain - Part II\n",
    "\n",
    "The purpose of this notebook is to explore fundamentals of LangChain.\n",
    "\n",
    "Key topics covered include: TextSplitters, Embeddings, Vector DB\n",
    "\n",
    "**NOTE: This is just a practice notebook that acts as a precursor to the main project**"
   ]
  },
  {
   "cell_type": "code",
   "execution_count": 12,
   "id": "3da204bb",
   "metadata": {},
   "outputs": [],
   "source": [
    "# Text loaders allow you to load data from a text file\n",
    "# Document class that contains metadata and page_content - data[0]"
   ]
  },
  {
   "cell_type": "code",
   "execution_count": 29,
   "id": "4785fa61",
   "metadata": {},
   "outputs": [
    {
     "data": {
      "text/plain": [
       "langchain_core.documents.base.Document"
      ]
     },
     "execution_count": 29,
     "metadata": {},
     "output_type": "execute_result"
    }
   ],
   "source": [
    "from langchain_community.document_loaders.csv_loader import CSVLoader\n",
    "\n",
    "loader = CSVLoader(file_path=\"C:/Users/DELL/Downloads/salesdata.csv\",)\n",
    "\n",
    "data = loader.load()\n",
    "\n",
    "type(data[0])"
   ]
  },
  {
   "cell_type": "code",
   "execution_count": 30,
   "id": "f3492a45",
   "metadata": {},
   "outputs": [
    {
     "name": "stdout",
     "output_type": "stream",
     "text": [
      "page_content='id: 1\n",
      "nItems: 1469\n",
      "mostFreqStore: Stockton\n",
      "mostFreqCat: Alcohol\n",
      "nCats: 72\n",
      "preferredBrand: Veina\n",
      "nBrands: 517\n",
      "nPurch: 82\n",
      "salesLast3Mon: 2741.97\n",
      "salesThisMon: 1283.87\n",
      "daysSinceLastPurch: 1\n",
      "meanItemPrice: 1.86655547991831\n",
      "meanShoppingCartValue: 33.4386585365854\n",
      "customerDuration: 821' metadata={'source': 'C:/Users/DELL/Downloads/salesdata.csv', 'row': 0}\n"
     ]
    }
   ],
   "source": [
    "# contains meta data and page_content\n",
    "# we can alter the meta data displayed by passing parameter source_column= \"id\" in CSVLoader\n",
    "print(data[0])"
   ]
  },
  {
   "cell_type": "code",
   "execution_count": 25,
   "id": "3dba064c",
   "metadata": {},
   "outputs": [],
   "source": [
    "#installing essential libraries, libmagic is used for file type detection\n",
    "#!pip3 install unstructured libmagic python-magic python-magic-bin"
   ]
  },
  {
   "cell_type": "markdown",
   "id": "5a5fc63f",
   "metadata": {},
   "source": [
    "## Text Loader\n",
    "The unstructured library in Python assists with processing unstructured data like images and text documents, enabling easy transformation into structured formats for machine learning applications.\n",
    "\n",
    "Langchains' UnstructuredURLLoader uses this library underneath to go to that website and see the html structure and pull data."
   ]
  },
  {
   "cell_type": "code",
   "execution_count": 31,
   "id": "0a721693",
   "metadata": {},
   "outputs": [],
   "source": [
    "#Reading unstructured news articles from the web\n",
    "from langchain.document_loaders import UnstructuredURLLoader"
   ]
  },
  {
   "cell_type": "code",
   "execution_count": 34,
   "id": "45e7c264",
   "metadata": {},
   "outputs": [],
   "source": [
    "loader = UnstructuredURLLoader(\n",
    "urls =[\"https://www.ft.com/content/632411eb-c3fa-4351-a3b6-b0e30bdc0ef7?accessToken=zwAAAYWwEkESkc9jJBHrw_pDUdOjtrDjC9wO9wE.MEQCIC7-tLEPkOYVG427tYIVBtANt60iz-FWXCfBDHwEb0G0AiB5JouSRl1fivzejChmdq5TnvVdNmiibHtVbJUCviVHxA&segmentId=501d7750-774f-dc19-66bb-320ebfb582d1\",\n",
    "       \"https://www.ft.com/content/95745636-2d21-46aa-b0f1-6bda1c0fdd0b?accessToken=zwAAAYblEFF3kdOVdFY2LSFGqtOw8WvaHA_dCwE.MEYCIQCKqVGoyEh2jPvo574Ns5jiUzEVBHMrg2m8wfbjaLwupwIhANpYFrgjSfID76yCJIJPJEhzWtetNi5MsOMiYl_gyjaH&segmentId=8bab5fbd-4508-93c4-7ded-a9e1428c7053\"])"
   ]
  },
  {
   "cell_type": "code",
   "execution_count": 35,
   "id": "83b56da4",
   "metadata": {},
   "outputs": [],
   "source": [
    "data = loader.load()"
   ]
  },
  {
   "cell_type": "code",
   "execution_count": 38,
   "id": "1adcf3f3",
   "metadata": {},
   "outputs": [
    {
     "name": "stdout",
     "output_type": "stream",
     "text": [
      "page_content='Accessibility helpSkip to navigationSkip to contentSkip to footer\n",
      "\n",
      "Sign In\n",
      "\n",
      "Subscribe\n",
      "\n",
      "Open side navigation menuOpen search bar\n",
      "\n",
      "SubscribeSign In\n",
      "\n",
      "MenuSearch\n",
      "\n",
      "Home\n",
      "\n",
      "World\n",
      "\n",
      "US\n",
      "\n",
      "Companies\n",
      "\n",
      "Tech\n",
      "\n",
      "Markets\n",
      "\n",
      "Climate\n",
      "\n",
      "Opinion\n",
      "\n",
      "Lex\n",
      "\n",
      "Work & Careers\n",
      "\n",
      "Life & Arts\n",
      "\n",
      "HTSI\n",
      "\n",
      "Financial Times\n",
      "\n",
      "SubscribeSign In\n",
      "\n",
      "The Big Read Markets volatility\n",
      "\n",
      "Manage your delivery channels here\n",
      "\n",
      "The cracks in the US Treasury bond market\n",
      "\n",
      "The meltdown in UK gilts exposed the vulnerability of large bond markets. Could the biggest of them survive a wave of selling?\n",
      "\n",
      "The cracks in the US Treasury bond market on x (opens in a new window)\n",
      "\n",
      "The cracks in the US Treasury bond market on facebook (opens in a new window)\n",
      "\n",
      "The cracks in the US Treasury bond market on linkedin (opens in a new window)\n",
      "\n",
      "The cracks in the US Treasury bond market on whatsapp (opens in a new window)\n",
      "\n",
      "The cracks in the US Treasury bond market on x (opens in a new window)\n",
      "\n",
      "The cracks in the US Treasury bond market on facebook (opens in a new window)\n",
      "\n",
      "The cracks in the US Treasury bond market on linkedin (opens in a new window)\n",
      "\n",
      "The cracks in the US Treasury bond market on whatsapp (opens in a new window)\n",
      "\n",
      "Kate Duguid in New York and Tommy Stubbington in London\n",
      "\n",
      "November 15 2022\n",
      "\n",
      "Jump to comments section\n",
      "\n",
      "Unlock the Editor’s Digest for free\n",
      "\n",
      "Roula Khalaf, Editor of the FT, selects her favourite stories in this weekly newsletter.\n",
      "\n",
      "Buying and selling in the world’s biggest bond market is supposed to be easy. However, for most of this year, says Gregory Whiteley, a bond portfolio manager at DoubleLine Capital, it has been anything but straightforward.\n",
      "\n",
      "Whiteley says a trader used to be able to get hold of $400mn of US Treasury bonds — not an outsize quantity in this $24tn market — as a routine matter. But now that typically involves breaking up the order into smaller chunks; perhaps doing $100mn of the trade electronically, he explains, and then picking up the phone to see if they can prise the rest of the debt from the hands of Wall Street’s trading desks over the course of a day.\n",
      "\n",
      "The US Treasury bond market suffered a huge scare at the start of the coronavirus pandemic when fears about a collapse in the global economy led to a sudden slump in prices and liquidity.\n",
      "\n",
      "Now as the Federal Reserve battles to rein in inflation, a recession looms and most asset prices have faced a dramatic sell-off, the world’s most important bond market is creaking once again.\n",
      "\n",
      "Liquidity in the market — one crucial measure of how well it is functioning — is at its worst levels since March 2020 after a dramatic decline in the past year. Market depth, a measure of liquidity which refers to the ability of a trader to buy or sell Treasuries without moving prices, is also at its worst level since March 2020, according to Jay Barry at JPMorgan.\n",
      "\n",
      "“Markets are in a much more fragile place, with terrible liquidity,” says Greg Peters, co-chief investment officer at PGIM Fixed Income. “The way I think about fragile market function is that the odds of a financial accident are just higher.”\n",
      "\n",
      "All this was happening even before the recent meltdown in UK government debt, which has added to the anxiety about the vulnerability of the world’s large bond markets.\n",
      "\n",
      "While investors are not concerned about an exact replay of the UK crisis, in which pension funds placed leveraged bets on the direction of bonds at a large scale, many fear that an unforeseen wave of selling could quickly overwhelm the US bond market’s shaky infrastructure.\n",
      "\n",
      "“The wobble in the gilts market was a fire drill for everyone else,” says Steven Major, global head of fixed income research at HSBC. In some cases, investors say, a lack of liquidity is driving volatility in US bond prices, rather than the other way round.\n",
      "\n",
      "Regulators have unveiled a slew of measures aimed at improving the functioning of the market. At an important annual conference on Wednesday hosted by the New York Fed, officials will discuss with industry leaders ongoing efforts to improve the market’s resilience.\n",
      "\n",
      "“My assessment is that markets are well functioning, trading volumes are large, traders are not having difficulty executing trades,” Janet Yellen, the US Treasury secretary, said at the end of October in a speech on the subject. Reforms were being developed to “improve the Treasury market’s ability to absorb shocks and disruptions, rather than to amplify them”, she said.\n",
      "\n",
      "The Securities and Exchange Commission has put forward two ambitious proposals to improve the market’s resilience, while the Treasury has been consulting on a proposal to buy back illiquid bonds.\n",
      "\n",
      "The Fed has stepped in to stabilise markets during previous crises, such as in March 2020, and ultimately it could suspend its ongoing efforts to sell down some of the securities on its balance sheet or even restart its quantitative easing programme if the situation demanded, investors believe.\n",
      "\n",
      "But the sense of vulnerability around the US Treasury market is a matter of vital concern for investors given that everyone, from pension funds to foreign governments, puts their money in the market for safekeeping, making it the world’s de facto borrowing benchmark.\n",
      "\n",
      "Any sustained problems or a collapse in prices would have global consequences, ricocheting through stocks, corporate bonds and currencies.\n",
      "\n",
      "“It’s not simply the fact of having shit liquidity . . . it’s also what that implies for financial regulation, which is singularly premised on Treasuries being able to be sold easily,” says Yesha Yadav, a professor at Vanderbilt Law School who researches Treasury market regulation. “If you can’t guarantee that because liquidity is not working as it should be, I think that does imply something, not just about Treasury market stability, but about broader financial market stability.”\n",
      "\n",
      "Volatility and liquidity\n",
      "\n",
      "Investors acknowledge that liquidity in the Treasury bond market was bound to deteriorate this year, regardless of the mechanics of the market.\n",
      "\n",
      "Treasury yields, which move with interest rates, have been much more volatile than usual as the Fed has aggressively tightened monetary policy. Amid so much uncertainty, it was inevitable that it would be harder and more expensive to trade. And while the cost and difficulty with which investors trade in Treasuries has risen, trading volumes have remained steady through 2022, according to data from Sifma, the securities industry’s trade group.\n",
      "\n",
      "“As volatility goes up, it is only natural for the cost of transactions to go up. Volatility has gone up significantly, as we’ve seen the Fed hike rates in 75 basis point increments at an unprecedented pace,” says Isaac Chang, head of global fixed income trading at Citadel. “Liquidity concerns need to be viewed in that context.”\n",
      "\n",
      "Increased volatility tends to lead to reduced liquidity in the market. However, for some seasoned observers of US Treasuries, the causal relationship has begun to swing in the opposite direction, where illiquidity is now driving some of the volatility.\n",
      "\n",
      "Brian Sack, the director of economics at hedge fund DE Shaw, was the vice-chair of the Treasury Borrowing Advisory Committee until August of this year. The committee makes recommendations to the Treasury about how much and what it should borrow, and in May delivered a report about liquidity issues in the market.\n",
      "\n",
      "“For much of the year we’ve seen concerns about Treasury market functioning, but for a time this appeared mostly driven by the volatility of yields arising from fundamental developments,” says Sack.\n",
      "\n",
      "“In recent months, however, liquidity in the Treasury market has deteriorated further. This recent development is more concerning, as it seems as if market functioning has become a bigger source of risk, rather than just reflecting the uncertain fundamental environment.”\n",
      "\n",
      "For most analysts, the liquidity problems in the Treasury market are not just about rapidly changing prices, they are also a reflection of a dearth of buyers, or an inability or unwillingness of the buyers in the market to mop up all the supply.\n",
      "\n",
      "The fact the Treasury department has begun discussing the prospect of buying back some of the most illiquid Treasury bonds, says HSBC’s Major, is an implicit acknowledgment that faltering demand has begun to cause problems.\n",
      "\n",
      "One reason for the new questions about demand has been that the Treasury market has ballooned in size in recent years and the biggest buyers of that debt, most notably the Fed and the Bank of Japan, are stepping back. The Fed has been pulling back from the Treasury market as part of its quantitative tightening programme. And the Bank of Japan — guided by the policies of the Ministry of Finance — has been selling some of its foreign bond holdings, thought to consist largely of Treasuries, to support the yen against the strong dollar.\n",
      "\n",
      "Higher rates could cause the Treasury market to expand further. “The overall Treasury market is going to grow dramatically in order to pay the interest rates,” says Chris Concannon, president of trading platform MarketAxess. “To pay the rates, you’re going to see sizeable growth just to fund the payments required.”\n",
      "\n",
      "The retreat of major buyers in the Treasury market has also been a function of regulations introduced following the financial crisis that have made it more expensive for primary dealers — the banks that buy bonds directly from the Treasury, and have been a traditional provider of liquidity — to hold Treasuries.\n",
      "\n",
      "As primary dealers have limited their role, high-speed traders and hedge funds have taken their place to provide much-needed liquidity. These investors are less regulated and have behaved differently from how primary dealers did. Market watchers say there have been important moments of instability in the market where high-speed traders have pulled back from providing liquidity.\n",
      "\n",
      "The involvement of hedge funds and high-speed traders has also injected more leverage into the market — a factor that exacerbated the market crisis in March 2020. As panicked investors were selling Treasuries, hedge funds in leveraged bets known as the basis trade that sought to exploit small anomalies in bond prices were forced to unwind their positions, accelerating the sell-off.\n",
      "\n",
      "Recommended\n",
      "\n",
      "Renewable energy\n",
      "\n",
      "Cracks in the US treasury bond market\n",
      "\n",
      "Whether there are similar pools of leverage in Treasuries at present is hard to assess. Trading in Treasuries is opaque, and information about positioning, especially among non-banks, is hard to come by. The data that is available — such as that cited in the Fed’s financial stability report — is only published with a delay of several months.\n",
      "\n",
      "The latest report notes that measures of hedge fund leverage are above historical averages. “These gaps [in receiving the data] raise the risk that such firms are using leveraged positions, which could amplify adverse shocks, especially if they are financed with short-term funding,” the report said.\n",
      "\n",
      "The regulators get serious\n",
      "\n",
      "Amid such concern, regulators have been eager to point out that the market has not been disrupted.\n",
      "\n",
      "In spite of the high volatility and poor liquidity this year, there have been no signs of forced selling of major leveraged positions. The enormous attention focused on the market also means that any signs of problems could be picked up fairly quickly, even if transparency in Treasury market data is notoriously poor.\n",
      "\n",
      "In addition to the discussion about possible buybacks of illiquid bonds, at least one Fed governor has mentioned the possibility of easing some of the capital requirements on big banks, which would free their balance sheets to hold more Treasuries.\n",
      "\n",
      "There have also been proposals trying to improve the functioning of the market. Indeed, the proposals put forward by the SEC could represent the biggest changes in US market regulation since the 2010 Dodd-Frank act.\n",
      "\n",
      "The two main proposals would regulate non-bank players in the Treasury market in similar ways to banks. The first, known as the dealer rule, would require any Treasury market participant trading more than $25bn a month to register as a dealer, forcing them to be more transparent about their trading and positions and increasing their capital requirements.\n",
      "\n",
      "The second proposal would require more trades to be centrally cleared, meaning more deals in the Treasury market would have to be guaranteed by a third party, and the participants in the deal would have to have more cash on hand to place the bets.\n",
      "\n",
      "The international Financial Stability Board, which makes recommendations to the G20 nations on financial rules, said in a report from October that increasing the capital cushion required of non-bank liquidity providers and encouraging central clearing could help to stabilise core markets such as Treasuries in moments of poor liquidity.\n",
      "\n",
      "The SEC’s central clearing proposal has not provoked much backlash, but the dealer rule has. Hedge funds in particular have said that the rules are so sweeping they would affect funds that trade in the Treasury market on a regular basis to manage their risk, in addition to those placing speculative trades. What’s more, hedge funds typically have small balance sheets and borrow to make bets, and the new capital requirements would fundamentally change the business model of these firms.\n",
      "\n",
      "These changes are so significant that some hedge funds have threatened to pull out of the market entirely, which would exacerbate the liquidity problems the market is facing.\n",
      "\n",
      "“The SEC’s dealer rule imposes an unworkable regulatory structure that would cause many funds to reduce or cease their Treasury trading activity,” says Bryan Corbett, chief executive of Managed Funds Association. “The rule will lead to greater concentration, fewer market participants, and increased volatility, which is the opposite of the SEC’s stated objective.”\n",
      "\n",
      "If that leads to reduced participation by these investors in the Treasury market, then new buyers for US government debt will need to be found, especially after the rules come into effect in the coming years.\n",
      "\n",
      "“It is possible that the real risk will only come after a year of QT [quantitative tightening] and a year of increased private absorption of Treasuries because a new set of holders will have to be found, and maybe some of those turn out to be weak hands,” says Brad Setser, a fellow at the Council on Foreign Relations and a former Treasury official under President Obama.\n",
      "\n",
      "Ultimately, a large-scale Treasury market crisis would likely lead to an intervention by the Fed — just as in the UK, the Bank of England temporarily halted its quantitative tightening programme to backstop the market.\n",
      "\n",
      "However, a market in which the Fed is regularly forced to intervene is also not one that communicates the kind of stability and security that investors around the world depend on.\n",
      "\n",
      "“If there were to be the kind of disruption that we’ve seen in the gilts market in the Treasury market, there would be a bigger global impact just because the Treasury market is so much more important globally,” says Setser.\n",
      "\n",
      "Copyright The Financial Times Limited 2024. All rights reserved.\n",
      "\n",
      "Reuse this content (opens in new window) CommentsJump to comments section\n",
      "\n",
      "Promoted Content\n",
      "\n",
      "Follow the topics in this article\n",
      "\n",
      "US Treasury bonds\n",
      "\n",
      "Markets volatility\n",
      "\n",
      "The Big Read\n",
      "\n",
      "Tommy Stubbington\n",
      "\n",
      "Kate Duguid\n",
      "\n",
      "Comments\n",
      "\n",
      "Useful links\n",
      "\n",
      "Markets data delayed by at least 15 minutes. © THE FINANCIAL TIMES LTD 2024. FT and ‘Financial Times’ are trademarks of The Financial Times Ltd. The Financial Times and its journalism are subject to a self-regulation regime under the FT Editorial Code of Practice.\n",
      "\n",
      "Subscribe for full access' metadata={'source': 'https://www.ft.com/content/632411eb-c3fa-4351-a3b6-b0e30bdc0ef7?accessToken=zwAAAYWwEkESkc9jJBHrw_pDUdOjtrDjC9wO9wE.MEQCIC7-tLEPkOYVG427tYIVBtANt60iz-FWXCfBDHwEb0G0AiB5JouSRl1fivzejChmdq5TnvVdNmiibHtVbJUCviVHxA&segmentId=501d7750-774f-dc19-66bb-320ebfb582d1'}\n"
     ]
    }
   ],
   "source": [
    "print(data[0])"
   ]
  },
  {
   "cell_type": "markdown",
   "id": "5b37dd3d",
   "metadata": {},
   "source": [
    "## Text Splitting\n",
    "Any LLM has a token size limit. So, we need to reduce big block of text into smaller chunks.\n",
    "Individual chunks may not be close to the token limit of 4000ish. One may be around 3000 words and other may be like 1000 words. So, it makes sense to merge them to make them efficient (close to token limit).\n",
    "Divide huge chunk of text into smaller chunks and then merge splits such that each individual token is closer to the token limit depending on the LLM model. Further, we want to do some overlapping as we want some part of first para/chunk in the second chunk and so on. This is called overlapping of chunks. Can be done using some simple APIs in LangChain.\n"
   ]
  },
  {
   "cell_type": "code",
   "execution_count": 88,
   "id": "5db2f27d",
   "metadata": {},
   "outputs": [],
   "source": [
    "text = \"\"\"\n",
    "Interstellar is a 2014 epic science fiction drama film directed by Christopher Nolan, who co-wrote the screenplay with his brother Jonathan. It stars Matthew McConaughey, Anne Hathaway, Jessica Chastain, Bill Irwin, Ellen Burstyn, Matt Damon, and Michael Caine. Set in a dystopian future where Earth is suffering from catastrophic blight and famine, the film follows a group of astronauts who travel through a wormhole near Saturn in search of a new home for mankind.\n",
    "\n",
    "The screenplay had its origins in a script Jonathan developed in 2007 and was originally set to be directed by Steven Spielberg. Theoretical physicist Kip Thorne was an executive producer and scientific consultant on the film, and wrote the tie-in book The Science of Interstellar. Cinematographer Hoyte van Hoytema shot it on 35 mm movie film in the Panavision anamorphic format and IMAX 70 mm. Filming began in late 2013 and took place in Alberta, Klaustur, and Los Angeles. Interstellar uses extensive practical and miniature effects, and the company DNEG created additional digital effects.\n",
    "\n",
    "Interstellar was released in theaters on November 7, 2014. In the United States, it was first released on film stock, expanding to venues using digital projectors. The film received generally positive reviews and grossed over $681 million worldwide ($730 million after subsequent re-releases), making it the tenth-highest-grossing film of 2014. Thorne's computer-generated depiction of a black hole in the film has also received commendation from astronomers and physicists.[4][5][6] Among its various accolades, Interstellar was nominated for five awards at the 87th Academy Awards, winning Best Visual Effects, and received numerous other accolades. It was Lynda Obst's final film as producer before her death.\n",
    "\n",
    "\"\"\""
   ]
  },
  {
   "cell_type": "code",
   "execution_count": 71,
   "id": "9ed5915d",
   "metadata": {},
   "outputs": [
    {
     "data": {
      "text/plain": [
       "271"
      ]
     },
     "execution_count": 71,
     "metadata": {},
     "output_type": "execute_result"
    }
   ],
   "source": [
    "#Traditional approach to create chunks of size 200\n",
    "i = 10\n",
    "words = text.strip().split()\n",
    "len(words)"
   ]
  },
  {
   "cell_type": "code",
   "execution_count": 79,
   "id": "7bea7d2e",
   "metadata": {
    "scrolled": true
   },
   "outputs": [
    {
     "name": "stdout",
     "output_type": "stream",
     "text": [
      "200\n",
      "70\n"
     ]
    }
   ],
   "source": [
    "#This is a tedious approach\n",
    "i = 0\n",
    "chunks = []\n",
    "sentence = \"\"\n",
    "for word in words:\n",
    "    if(i<200):\n",
    "        sentence = sentence + str(word) + \" \"\n",
    "        i = i + 1\n",
    "    else:\n",
    "        chunks.append(sentence.strip())\n",
    "        i=0\n",
    "        sentence = \"\"\n",
    "chunks.append(sentence.strip())\n",
    "\n",
    "print(len(chunks[0].split()))\n",
    "print(len(chunks[1].split()))      #FYI: One space character was eliminated = 270"
   ]
  },
  {
   "cell_type": "markdown",
   "id": "f7968b7c",
   "metadata": {},
   "source": [
    "**LangChain provides a simple API to this job**\n",
    "\n",
    "- CharacterTextSplitter\n",
    "- RecursiveCharacterTextSplitter"
   ]
  },
  {
   "cell_type": "code",
   "execution_count": 94,
   "id": "ac4037e6",
   "metadata": {},
   "outputs": [
    {
     "name": "stderr",
     "output_type": "stream",
     "text": [
      "Created a chunk of size 205, which is longer than the specified 200\n"
     ]
    },
    {
     "name": "stdout",
     "output_type": "stream",
     "text": [
      "12\n",
      "139\n",
      "119\n",
      "204\n",
      "127\n",
      "151\n",
      "193\n",
      "176\n",
      "103\n",
      "179\n",
      "128\n",
      "176\n",
      "60\n"
     ]
    }
   ],
   "source": [
    "from langchain.text_splitter import CharacterTextSplitter\n",
    "\n",
    "splitter = CharacterTextSplitter(\n",
    "    separator=\".\",    #dividing text into chunks based on .\n",
    "    chunk_size=200,   \n",
    "    chunk_overlap=0)\n",
    "\n",
    "chunks = splitter.split_text(text)\n",
    "print(len(chunks))\n",
    "\n",
    "for chunk in chunks:\n",
    "    print(len(chunk))"
   ]
  },
  {
   "cell_type": "markdown",
   "id": "8d7e4554",
   "metadata": {},
   "source": [
    "Observation: 12 sentences with different number of characters in them. Some chunk sizes are > 200 as \".\" didn't come before 200 limit"
   ]
  },
  {
   "cell_type": "code",
   "execution_count": 96,
   "id": "9120bfcb",
   "metadata": {},
   "outputs": [
    {
     "name": "stderr",
     "output_type": "stream",
     "text": [
      "Created a chunk of size 467, which is longer than the specified 200\n",
      "Created a chunk of size 594, which is longer than the specified 200\n"
     ]
    },
    {
     "name": "stdout",
     "output_type": "stream",
     "text": [
      "3\n",
      "467\n",
      "594\n",
      "712\n"
     ]
    }
   ],
   "source": [
    "# If I use \\n as splitter\n",
    "\n",
    "splitter = CharacterTextSplitter(\n",
    "    separator=\"\\n\",\n",
    "    chunk_size=200,\n",
    "    chunk_overlap=0)\n",
    "\n",
    "chunks = splitter.split_text(text)\n",
    "print(len(chunks))\n",
    "\n",
    "for chunk in chunks:\n",
    "    print(len(chunk))"
   ]
  },
  {
   "cell_type": "markdown",
   "id": "715d94c4",
   "metadata": {},
   "source": [
    "Observation: There are 3 paragraphs.There is always going to some problem or the other.\n",
    "### RecursiveCharacterTextSplitter\n",
    "To address this we can use RecursiveCharacterTextSplitter that splits on the basis of multiple separators, one by one, until it gets chunks that are < chunk_size. It also merges smaller chunks to get to the optimal size."
   ]
  },
  {
   "cell_type": "code",
   "execution_count": 100,
   "id": "15247ccf",
   "metadata": {},
   "outputs": [],
   "source": [
    "from langchain.text_splitter import RecursiveCharacterTextSplitter\n",
    "\n",
    "r_splitter = RecursiveCharacterTextSplitter(\n",
    "    separators= [\"\\n\\n\",\"\\n\",\".\",\" \"],\n",
    "    chunk_size = 200,\n",
    "    chunk_overlap = 0)            #what percentage of previous text overlaps\n",
    "\n",
    "chunks = r_splitter.split_text(text)"
   ]
  },
  {
   "cell_type": "code",
   "execution_count": 101,
   "id": "ca28a1c9",
   "metadata": {},
   "outputs": [
    {
     "data": {
      "text/plain": [
       "14"
      ]
     },
     "execution_count": 101,
     "metadata": {},
     "output_type": "execute_result"
    }
   ],
   "source": [
    "len(chunks)"
   ]
  },
  {
   "cell_type": "code",
   "execution_count": 104,
   "id": "443e83c7",
   "metadata": {},
   "outputs": [
    {
     "name": "stdout",
     "output_type": "stream",
     "text": [
      "139\n",
      "121\n",
      "198\n",
      "7\n",
      "1\n",
      "127\n",
      "153\n",
      "195\n",
      "119\n",
      "162\n",
      "181\n",
      "130\n",
      "177\n",
      "62\n"
     ]
    }
   ],
   "source": [
    "#All chunks are now < chunk_size\n",
    "for chunk in chunks:\n",
    "    print(len(chunk))"
   ]
  },
  {
   "cell_type": "markdown",
   "id": "c3cc130c",
   "metadata": {},
   "source": [
    "What's happening internally?"
   ]
  },
  {
   "cell_type": "code",
   "execution_count": 110,
   "id": "d5cb001c",
   "metadata": {},
   "outputs": [
    {
     "name": "stdout",
     "output_type": "stream",
     "text": [
      "468\n",
      "594\n",
      "712\n",
      "0\n"
     ]
    }
   ],
   "source": [
    "#Splitting basis first separator - 4 chunks\n",
    "chunks = text.split(\"\\n\\n\")\n",
    "\n",
    "for chunk in chunks:\n",
    "    print(len(chunk))"
   ]
  },
  {
   "cell_type": "code",
   "execution_count": 111,
   "id": "652079a7",
   "metadata": {},
   "outputs": [
    {
     "data": {
      "text/plain": [
       "'\\nInterstellar is a 2014 epic science fiction drama film directed by Christopher Nolan, who co-wrote the screenplay with his brother Jonathan. It stars Matthew McConaughey, Anne Hathaway, Jessica Chastain, Bill Irwin, Ellen Burstyn, Matt Damon, and Michael Caine. Set in a dystopian future where Earth is suffering from catastrophic blight and famine, the film follows a group of astronauts who travel through a wormhole near Saturn in search of a new home for mankind.'"
      ]
     },
     "execution_count": 111,
     "metadata": {},
     "output_type": "execute_result"
    }
   ],
   "source": [
    "#first chunk\n",
    "first_split = chunks[0]\n",
    "first_split"
   ]
  },
  {
   "cell_type": "code",
   "execution_count": 115,
   "id": "b091430a",
   "metadata": {},
   "outputs": [
    {
     "name": "stdout",
     "output_type": "stream",
     "text": [
      "0\n",
      "467\n"
     ]
    }
   ],
   "source": [
    "#splitting first chunk basis second separator\n",
    "first_split_again = first_split.split(\"\\n\")\n",
    "\n",
    "for chunk in first_split_again:\n",
    "    print(len(chunk))"
   ]
  },
  {
   "cell_type": "code",
   "execution_count": 117,
   "id": "24f351c2",
   "metadata": {},
   "outputs": [
    {
     "name": "stdout",
     "output_type": "stream",
     "text": [
      "12\n",
      "2\n",
      "1\n",
      "4\n",
      "4\n",
      "7\n",
      "7\n",
      "5\n",
      "4\n",
      "8\n",
      "2\n",
      "11\n",
      "6\n",
      "3\n",
      "8\n",
      "3\n",
      "10\n",
      "4\n",
      "3\n",
      "7\n",
      "9\n",
      "2\n",
      "5\n",
      "7\n",
      "12\n",
      "4\n",
      "9\n",
      "7\n",
      "9\n",
      "4\n",
      "6\n",
      "5\n",
      "8\n",
      "4\n",
      "6\n",
      "3\n",
      "7\n",
      "6\n",
      "3\n",
      "2\n",
      "1\n",
      "9\n",
      "6\n",
      "5\n",
      "5\n",
      "2\n",
      "9\n",
      "4\n",
      "12\n",
      "6\n",
      "3\n",
      "7\n",
      "3\n",
      "4\n",
      "7\n",
      "1\n",
      "5\n",
      "2\n",
      "10\n",
      "3\n",
      "6\n",
      "7\n",
      "1\n",
      "8\n",
      "4\n",
      "6\n",
      "2\n",
      "6\n",
      "2\n",
      "1\n",
      "3\n",
      "4\n",
      "3\n",
      "8\n"
     ]
    }
   ],
   "source": [
    "#splitting second chunk from above basis third separator\n",
    "first_split_again_again = first_split_again[1].split(\" \")\n",
    "\n",
    "for chunk in first_split_again_again:\n",
    "    print(len(chunk))"
   ]
  },
  {
   "cell_type": "markdown",
   "id": "8a256ac0",
   "metadata": {},
   "source": [
    "Once separation is done, it merges again to form optimal chunk sizes. If there is a chunk of size 210, it splits it futher using \" \" and then merges them to get something like 198 + 12 (depending on whitespaces)"
   ]
  },
  {
   "cell_type": "markdown",
   "id": "a74fdec4",
   "metadata": {},
   "source": [
    "### Vector Databases\n",
    "\n",
    "- For this project, we will use FAISS (Facebook AI Similarity Search). It is like a library that allows you to do fast search from a set of vectors you have. It can also be used as an in-memory vector DB for small projects.\n",
    "- We will convert text into embeddings using OpenAI or Word2Vec etc embeddings. Then store them into vector database. For this project, we will store them in FAISS index.\n",
    "- Let’s say 1M embeddings in Vector DB. Then the input query is converted into vector embedding and a search is performed. Vector DB will return how many of its vector embeddings are similar to the Input embedding.\n"
   ]
  },
  {
   "cell_type": "code",
   "execution_count": 129,
   "id": "1f131a54",
   "metadata": {},
   "outputs": [],
   "source": [
    "#install packages\n",
    "\n",
    "#%pip install faiss-cpu\n",
    "#%pip install -U sentence-transformers"
   ]
  },
  {
   "cell_type": "code",
   "execution_count": 2,
   "id": "1049b129",
   "metadata": {},
   "outputs": [],
   "source": [
    "import pandas as pd\n",
    "\n",
    "pd.set_option('display.max_colwidth',100)"
   ]
  },
  {
   "cell_type": "code",
   "execution_count": 3,
   "id": "b3df39ca",
   "metadata": {},
   "outputs": [
    {
     "data": {
      "text/html": [
       "<div>\n",
       "<style scoped>\n",
       "    .dataframe tbody tr th:only-of-type {\n",
       "        vertical-align: middle;\n",
       "    }\n",
       "\n",
       "    .dataframe tbody tr th {\n",
       "        vertical-align: top;\n",
       "    }\n",
       "\n",
       "    .dataframe thead th {\n",
       "        text-align: right;\n",
       "    }\n",
       "</style>\n",
       "<table border=\"1\" class=\"dataframe\">\n",
       "  <thead>\n",
       "    <tr style=\"text-align: right;\">\n",
       "      <th></th>\n",
       "      <th>text</th>\n",
       "      <th>category</th>\n",
       "    </tr>\n",
       "  </thead>\n",
       "  <tbody>\n",
       "    <tr>\n",
       "      <th>0</th>\n",
       "      <td>Meditation and yoga can improve mental health</td>\n",
       "      <td>Health</td>\n",
       "    </tr>\n",
       "    <tr>\n",
       "      <th>1</th>\n",
       "      <td>Fruits, whole grains and vegetables helps control blood pressure</td>\n",
       "      <td>Health</td>\n",
       "    </tr>\n",
       "    <tr>\n",
       "      <th>2</th>\n",
       "      <td>These are the latest fashion trends for this week</td>\n",
       "      <td>Fashion</td>\n",
       "    </tr>\n",
       "    <tr>\n",
       "      <th>3</th>\n",
       "      <td>Vibrant color jeans for male are becoming a trend</td>\n",
       "      <td>Fashion</td>\n",
       "    </tr>\n",
       "    <tr>\n",
       "      <th>4</th>\n",
       "      <td>The concert starts at 7 PM tonight</td>\n",
       "      <td>Event</td>\n",
       "    </tr>\n",
       "    <tr>\n",
       "      <th>5</th>\n",
       "      <td>Navaratri dandiya program at Expo center in Mumbai this october</td>\n",
       "      <td>Event</td>\n",
       "    </tr>\n",
       "    <tr>\n",
       "      <th>6</th>\n",
       "      <td>Exciting vacation destinations for your next trip</td>\n",
       "      <td>Travel</td>\n",
       "    </tr>\n",
       "    <tr>\n",
       "      <th>7</th>\n",
       "      <td>Maldives and Srilanka are gaining popularity in terms of low budget vacation places</td>\n",
       "      <td>Travel</td>\n",
       "    </tr>\n",
       "  </tbody>\n",
       "</table>\n",
       "</div>"
      ],
      "text/plain": [
       "                                                                                  text  \\\n",
       "0                                        Meditation and yoga can improve mental health   \n",
       "1                     Fruits, whole grains and vegetables helps control blood pressure   \n",
       "2                                    These are the latest fashion trends for this week   \n",
       "3                                    Vibrant color jeans for male are becoming a trend   \n",
       "4                                                   The concert starts at 7 PM tonight   \n",
       "5                      Navaratri dandiya program at Expo center in Mumbai this october   \n",
       "6                                    Exciting vacation destinations for your next trip   \n",
       "7  Maldives and Srilanka are gaining popularity in terms of low budget vacation places   \n",
       "\n",
       "  category  \n",
       "0   Health  \n",
       "1   Health  \n",
       "2  Fashion  \n",
       "3  Fashion  \n",
       "4    Event  \n",
       "5    Event  \n",
       "6   Travel  \n",
       "7   Travel  "
      ]
     },
     "execution_count": 3,
     "metadata": {},
     "output_type": "execute_result"
    }
   ],
   "source": [
    "df = pd.read_csv('C:/Users/DELL/Downloads/sample_text.csv')\n",
    "df"
   ]
  },
  {
   "cell_type": "code",
   "execution_count": 4,
   "id": "037aa827",
   "metadata": {},
   "outputs": [
    {
     "data": {
      "text/plain": [
       "(8, 768)"
      ]
     },
     "execution_count": 4,
     "metadata": {},
     "output_type": "execute_result"
    }
   ],
   "source": [
    "#converting sentences into vectors\n",
    "#We will use hugging face sentence transformer\n",
    "from sentence_transformers import SentenceTransformer\n",
    "\n",
    "encoder = SentenceTransformer(\"all-mpnet-base-v2\")  #using this model for encoding\n",
    "\n",
    "vectors = encoder.encode(df.text)  #encoder expects an array of text\n",
    "vectors.shape"
   ]
  },
  {
   "cell_type": "code",
   "execution_count": 5,
   "id": "cf129f7c",
   "metadata": {},
   "outputs": [],
   "source": [
    "#let's store the nos of parameters in a varible\n",
    "dim = vectors.shape[1]"
   ]
  },
  {
   "cell_type": "code",
   "execution_count": 6,
   "id": "768d32b8",
   "metadata": {},
   "outputs": [
    {
     "data": {
      "text/plain": [
       "<faiss.swigfaiss_avx2.IndexFlatL2; proxy of <Swig Object of type 'faiss::IndexFlatL2 *' at 0x0000025333DA5EC0> >"
      ]
     },
     "execution_count": 6,
     "metadata": {},
     "output_type": "execute_result"
    }
   ],
   "source": [
    "import faiss\n",
    "\n",
    "index = faiss.IndexFlatL2(dim)   #creating an index of size 768\n",
    "index "
   ]
  },
  {
   "cell_type": "markdown",
   "id": "42b6d14e",
   "metadata": {},
   "source": [
    "##### We are using L2 Indexing which uses Eucledian distance.\n",
    "\n",
    "##### IndexFlatL2 is simply creating an index for fast search, similar to MySQL.\n",
    "\n",
    "##### Faiss.Index will internally construct some datastructure that allows fast similarity search."
   ]
  },
  {
   "cell_type": "code",
   "execution_count": 7,
   "id": "eecbc8a2",
   "metadata": {},
   "outputs": [],
   "source": [
    "index.add(vectors)"
   ]
  },
  {
   "cell_type": "code",
   "execution_count": 13,
   "id": "b6615b68",
   "metadata": {},
   "outputs": [
    {
     "data": {
      "text/plain": [
       "(768,)"
      ]
     },
     "execution_count": 13,
     "metadata": {},
     "output_type": "execute_result"
    }
   ],
   "source": [
    "search_query = \"I want to buy a shirt for my upcoming trip\"\n",
    "\n",
    "vec = encoder.encode(search_query)\n",
    "vec.shape\n"
   ]
  },
  {
   "cell_type": "code",
   "execution_count": 14,
   "id": "eefe8c10",
   "metadata": {},
   "outputs": [
    {
     "data": {
      "text/plain": [
       "(1, 768)"
      ]
     },
     "execution_count": 14,
     "metadata": {},
     "output_type": "execute_result"
    }
   ],
   "source": [
    "#But this search vector expects a 2-D array as input\n",
    "\n",
    "import numpy as np\n",
    "svec = np.array(vec).reshape(1,-1)        #means 1 x whatever it takes\n",
    "svec.shape\n"
   ]
  },
  {
   "cell_type": "code",
   "execution_count": 16,
   "id": "c09b84b1",
   "metadata": {},
   "outputs": [],
   "source": [
    "#returns distances and row numbers\n",
    "distances, I = index.search(svec, k = 2)   # K -> how many similar index you want?"
   ]
  },
  {
   "cell_type": "code",
   "execution_count": 23,
   "id": "3d008a82",
   "metadata": {},
   "outputs": [
    {
     "name": "stdout",
     "output_type": "stream",
     "text": [
      "[[1.3643883 1.3819258]] [[2 6]]\n"
     ]
    }
   ],
   "source": [
    "print(distances, I)"
   ]
  },
  {
   "cell_type": "code",
   "execution_count": 22,
   "id": "a793493e",
   "metadata": {},
   "outputs": [
    {
     "data": {
      "text/html": [
       "<div>\n",
       "<style scoped>\n",
       "    .dataframe tbody tr th:only-of-type {\n",
       "        vertical-align: middle;\n",
       "    }\n",
       "\n",
       "    .dataframe tbody tr th {\n",
       "        vertical-align: top;\n",
       "    }\n",
       "\n",
       "    .dataframe thead th {\n",
       "        text-align: right;\n",
       "    }\n",
       "</style>\n",
       "<table border=\"1\" class=\"dataframe\">\n",
       "  <thead>\n",
       "    <tr style=\"text-align: right;\">\n",
       "      <th></th>\n",
       "      <th>text</th>\n",
       "      <th>category</th>\n",
       "    </tr>\n",
       "  </thead>\n",
       "  <tbody>\n",
       "    <tr>\n",
       "      <th>2</th>\n",
       "      <td>These are the latest fashion trends for this week</td>\n",
       "      <td>Fashion</td>\n",
       "    </tr>\n",
       "    <tr>\n",
       "      <th>6</th>\n",
       "      <td>Exciting vacation destinations for your next trip</td>\n",
       "      <td>Travel</td>\n",
       "    </tr>\n",
       "  </tbody>\n",
       "</table>\n",
       "</div>"
      ],
      "text/plain": [
       "                                                text category\n",
       "2  These are the latest fashion trends for this week  Fashion\n",
       "6  Exciting vacation destinations for your next trip   Travel"
      ]
     },
     "execution_count": 22,
     "metadata": {},
     "output_type": "execute_result"
    }
   ],
   "source": [
    "df.loc[I[0]]"
   ]
  },
  {
   "cell_type": "markdown",
   "id": "ce75b6a9",
   "metadata": {},
   "source": [
    "Observation: We searched for shirt for trip and got the above as output. This was not a key words search. It was semantic search."
   ]
  },
  {
   "cell_type": "code",
   "execution_count": 24,
   "id": "ac381521",
   "metadata": {},
   "outputs": [],
   "source": [
    "# Let's do it one more time. \n",
    "\n",
    "search_query_nw = \"An apple a day keeps the doctor away\""
   ]
  },
  {
   "cell_type": "code",
   "execution_count": 26,
   "id": "f6796d80",
   "metadata": {},
   "outputs": [
    {
     "data": {
      "text/plain": [
       "(768,)"
      ]
     },
     "execution_count": 26,
     "metadata": {},
     "output_type": "execute_result"
    }
   ],
   "source": [
    "vec_nw = encoder.encode(search_query_nw)\n",
    "vec_nw.shape"
   ]
  },
  {
   "cell_type": "code",
   "execution_count": 28,
   "id": "5379b29f",
   "metadata": {},
   "outputs": [],
   "source": [
    "svec_nw = np.array(vec_nw).reshape(1,-1)"
   ]
  },
  {
   "cell_type": "code",
   "execution_count": 30,
   "id": "dbac3cb0",
   "metadata": {},
   "outputs": [
    {
     "data": {
      "text/plain": [
       "(array([[1.3433158, 1.7125269]], dtype=float32), array([[1, 0]], dtype=int64))"
      ]
     },
     "execution_count": 30,
     "metadata": {},
     "output_type": "execute_result"
    }
   ],
   "source": [
    "index.search(svec_nw, k = 2)"
   ]
  },
  {
   "cell_type": "code",
   "execution_count": null,
   "id": "256db8e2",
   "metadata": {},
   "outputs": [],
   "source": []
  },
  {
   "cell_type": "code",
   "execution_count": null,
   "id": "1a40a978",
   "metadata": {},
   "outputs": [],
   "source": []
  }
 ],
 "metadata": {
  "kernelspec": {
   "display_name": "Python 3 (ipykernel)",
   "language": "python",
   "name": "python3"
  },
  "language_info": {
   "codemirror_mode": {
    "name": "ipython",
    "version": 3
   },
   "file_extension": ".py",
   "mimetype": "text/x-python",
   "name": "python",
   "nbconvert_exporter": "python",
   "pygments_lexer": "ipython3",
   "version": "3.11.3"
  }
 },
 "nbformat": 4,
 "nbformat_minor": 5
}
